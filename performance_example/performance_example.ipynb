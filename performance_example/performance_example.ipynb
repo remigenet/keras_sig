{
 "cells": [
  {
   "cell_type": "markdown",
   "id": "7a9648e3-5124-4e99-a098-5e89174ad00e",
   "metadata": {
    "scrolled": true
   },
   "source": [
    "### Needed to install iisignature"
   ]
  },
  {
   "cell_type": "code",
   "execution_count": 69,
   "id": "9647052c-2cba-42c4-b305-08aad91c6adf",
   "metadata": {},
   "outputs": [
    {
     "name": "stdout",
     "output_type": "stream",
     "text": [
      "Reading package lists... Done\n",
      "Building dependency tree... Done\n",
      "Reading state information... Done\n",
      "build-essential is already the newest version (12.9ubuntu3).\n",
      "g++ is already the newest version (4:11.2.0-1ubuntu1).\n",
      "gcc is already the newest version (4:11.2.0-1ubuntu1).\n",
      "python3-dev is already the newest version (3.10.6-1~22.04.1).\n",
      "0 upgraded, 0 newly installed, 0 to remove and 35 not upgraded.\n"
     ]
    }
   ],
   "source": [
    "!apt install gcc g++ python3-dev build-essential -y"
   ]
  },
  {
   "cell_type": "code",
   "execution_count": 70,
   "id": "eeded783-fd12-491e-9eb4-e9431cb36d56",
   "metadata": {},
   "outputs": [
    {
     "name": "stdout",
     "output_type": "stream",
     "text": [
      "Requirement already satisfied: jax[cuda] in /usr/local/lib/python3.10/dist-packages (0.4.35)\n",
      "Requirement already satisfied: tensorflow in /usr/local/lib/python3.10/dist-packages (2.18.0)\n",
      "Requirement already satisfied: torch in /usr/local/lib/python3.10/dist-packages (2.5.1)\n",
      "Requirement already satisfied: keras in /usr/local/lib/python3.10/dist-packages (3.6.0)\n",
      "Requirement already satisfied: jaxtyping in /usr/local/lib/python3.10/dist-packages (0.2.36)\n",
      "Requirement already satisfied: signax in /usr/local/lib/python3.10/dist-packages (0.2.1)\n",
      "Requirement already satisfied: iisignature in /usr/local/lib/python3.10/dist-packages (0.24)\n",
      "Collecting iisignature_tensorflow_2\n",
      "  Downloading iisignature_tensorflow_2-0.1.0-py3-none-any.whl (2.9 kB)\n",
      "Requirement already satisfied: jaxlib<=0.4.35,>=0.4.34 in /usr/local/lib/python3.10/dist-packages (from jax[cuda]) (0.4.34)\n",
      "Requirement already satisfied: scipy>=1.10 in /usr/local/lib/python3.10/dist-packages (from jax[cuda]) (1.14.1)\n",
      "Requirement already satisfied: opt-einsum in /usr/local/lib/python3.10/dist-packages (from jax[cuda]) (3.4.0)\n",
      "Requirement already satisfied: ml-dtypes>=0.4.0 in /usr/local/lib/python3.10/dist-packages (from jax[cuda]) (0.4.1)\n",
      "Requirement already satisfied: numpy>=1.24 in /usr/local/lib/python3.10/dist-packages (from jax[cuda]) (2.0.2)\n",
      "Requirement already satisfied: jax-cuda12-plugin[with_cuda]<=0.4.35,>=0.4.34 in /usr/local/lib/python3.10/dist-packages (from jax[cuda]) (0.4.35)\n",
      "Requirement already satisfied: typing-extensions>=3.6.6 in /usr/local/lib/python3.10/dist-packages (from tensorflow) (4.12.2)\n",
      "Requirement already satisfied: packaging in /usr/local/lib/python3.10/dist-packages (from tensorflow) (24.2)\n",
      "Requirement already satisfied: setuptools in /usr/lib/python3/dist-packages (from tensorflow) (59.6.0)\n",
      "Requirement already satisfied: absl-py>=1.0.0 in /usr/local/lib/python3.10/dist-packages (from tensorflow) (2.1.0)\n",
      "Requirement already satisfied: grpcio<2.0,>=1.24.3 in /usr/local/lib/python3.10/dist-packages (from tensorflow) (1.68.0)\n",
      "Requirement already satisfied: six>=1.12.0 in /usr/lib/python3/dist-packages (from tensorflow) (1.16.0)\n",
      "Requirement already satisfied: flatbuffers>=24.3.25 in /usr/local/lib/python3.10/dist-packages (from tensorflow) (24.3.25)\n",
      "Requirement already satisfied: tensorboard<2.19,>=2.18 in /usr/local/lib/python3.10/dist-packages (from tensorflow) (2.18.0)\n",
      "Requirement already satisfied: requests<3,>=2.21.0 in /usr/local/lib/python3.10/dist-packages (from tensorflow) (2.32.3)\n",
      "Requirement already satisfied: libclang>=13.0.0 in /usr/local/lib/python3.10/dist-packages (from tensorflow) (18.1.1)\n",
      "Requirement already satisfied: h5py>=3.11.0 in /usr/local/lib/python3.10/dist-packages (from tensorflow) (3.12.1)\n",
      "Requirement already satisfied: tensorflow-io-gcs-filesystem>=0.23.1 in /usr/local/lib/python3.10/dist-packages (from tensorflow) (0.37.1)\n",
      "Requirement already satisfied: google-pasta>=0.1.1 in /usr/local/lib/python3.10/dist-packages (from tensorflow) (0.2.0)\n",
      "Requirement already satisfied: gast!=0.5.0,!=0.5.1,!=0.5.2,>=0.2.1 in /usr/local/lib/python3.10/dist-packages (from tensorflow) (0.6.0)\n",
      "Requirement already satisfied: termcolor>=1.1.0 in /usr/local/lib/python3.10/dist-packages (from tensorflow) (2.5.0)\n",
      "Requirement already satisfied: protobuf!=4.21.0,!=4.21.1,!=4.21.2,!=4.21.3,!=4.21.4,!=4.21.5,<6.0.0dev,>=3.20.3 in /usr/local/lib/python3.10/dist-packages (from tensorflow) (5.28.3)\n",
      "Requirement already satisfied: astunparse>=1.6.0 in /usr/local/lib/python3.10/dist-packages (from tensorflow) (1.6.3)\n",
      "Requirement already satisfied: wrapt>=1.11.0 in /usr/local/lib/python3.10/dist-packages (from tensorflow) (1.16.0)\n",
      "Requirement already satisfied: nvidia-cublas-cu12==12.4.5.8 in /usr/local/lib/python3.10/dist-packages (from torch) (12.4.5.8)\n",
      "Requirement already satisfied: fsspec in /usr/local/lib/python3.10/dist-packages (from torch) (2024.10.0)\n",
      "Requirement already satisfied: sympy==1.13.1 in /usr/local/lib/python3.10/dist-packages (from torch) (1.13.1)\n",
      "Requirement already satisfied: nvidia-nccl-cu12==2.21.5 in /usr/local/lib/python3.10/dist-packages (from torch) (2.21.5)\n",
      "Requirement already satisfied: nvidia-cusolver-cu12==11.6.1.9 in /usr/local/lib/python3.10/dist-packages (from torch) (11.6.1.9)\n",
      "Requirement already satisfied: networkx in /usr/local/lib/python3.10/dist-packages (from torch) (3.4.2)\n",
      "Requirement already satisfied: triton==3.1.0 in /usr/local/lib/python3.10/dist-packages (from torch) (3.1.0)\n",
      "Requirement already satisfied: nvidia-curand-cu12==10.3.5.147 in /usr/local/lib/python3.10/dist-packages (from torch) (10.3.5.147)\n",
      "Requirement already satisfied: nvidia-cusparse-cu12==12.3.1.170 in /usr/local/lib/python3.10/dist-packages (from torch) (12.3.1.170)\n",
      "Requirement already satisfied: nvidia-nvjitlink-cu12==12.4.127 in /usr/local/lib/python3.10/dist-packages (from torch) (12.4.127)\n",
      "Requirement already satisfied: nvidia-cuda-cupti-cu12==12.4.127 in /usr/local/lib/python3.10/dist-packages (from torch) (12.4.127)\n",
      "Requirement already satisfied: nvidia-cufft-cu12==11.2.1.3 in /usr/local/lib/python3.10/dist-packages (from torch) (11.2.1.3)\n",
      "Requirement already satisfied: nvidia-cuda-runtime-cu12==12.4.127 in /usr/local/lib/python3.10/dist-packages (from torch) (12.4.127)\n",
      "Requirement already satisfied: filelock in /usr/local/lib/python3.10/dist-packages (from torch) (3.16.1)\n",
      "Requirement already satisfied: nvidia-cudnn-cu12==9.1.0.70 in /usr/local/lib/python3.10/dist-packages (from torch) (9.1.0.70)\n",
      "Requirement already satisfied: nvidia-cuda-nvrtc-cu12==12.4.127 in /usr/local/lib/python3.10/dist-packages (from torch) (12.4.127)\n",
      "Requirement already satisfied: nvidia-nvtx-cu12==12.4.127 in /usr/local/lib/python3.10/dist-packages (from torch) (12.4.127)\n",
      "Requirement already satisfied: jinja2 in /usr/local/lib/python3.10/dist-packages (from torch) (3.1.4)\n",
      "Requirement already satisfied: mpmath<1.4,>=1.1.0 in /usr/local/lib/python3.10/dist-packages (from sympy==1.13.1->torch) (1.3.0)\n",
      "Requirement already satisfied: optree in /usr/local/lib/python3.10/dist-packages (from keras) (0.13.1)\n",
      "Requirement already satisfied: rich in /usr/local/lib/python3.10/dist-packages (from keras) (13.9.4)\n",
      "Requirement already satisfied: namex in /usr/local/lib/python3.10/dist-packages (from keras) (0.0.8)\n",
      "Requirement already satisfied: equinox in /usr/local/lib/python3.10/dist-packages (from signax) (0.11.8)\n",
      "Collecting numpy>=1.24\n",
      "  Downloading numpy-1.26.4-cp310-cp310-manylinux_2_17_x86_64.manylinux2014_x86_64.whl (18.2 MB)\n",
      "\u001b[2K     \u001b[90m━━━━━━━━━━━━━━━━━━━━━━━━━━━━━━━━━━━━━━━━\u001b[0m \u001b[32m18.2/18.2 MB\u001b[0m \u001b[31m81.2 MB/s\u001b[0m eta \u001b[36m0:00:00\u001b[0m00:01\u001b[0m00:01\u001b[0m\n",
      "\u001b[?25hRequirement already satisfied: wheel<1.0,>=0.23.0 in /usr/lib/python3/dist-packages (from astunparse>=1.6.0->tensorflow) (0.37.1)\n",
      "Requirement already satisfied: jax-cuda12-pjrt==0.4.35 in /usr/local/lib/python3.10/dist-packages (from jax-cuda12-plugin[with_cuda]<=0.4.35,>=0.4.34->jax[cuda]) (0.4.35)\n",
      "Requirement already satisfied: nvidia-cuda-nvcc-cu12>=12.1.105 in /usr/local/lib/python3.10/dist-packages (from jax-cuda12-plugin[with_cuda]<=0.4.35,>=0.4.34->jax[cuda]) (12.6.85)\n",
      "Requirement already satisfied: charset-normalizer<4,>=2 in /usr/local/lib/python3.10/dist-packages (from requests<3,>=2.21.0->tensorflow) (3.4.0)\n",
      "Requirement already satisfied: urllib3<3,>=1.21.1 in /usr/local/lib/python3.10/dist-packages (from requests<3,>=2.21.0->tensorflow) (2.2.3)\n",
      "Requirement already satisfied: certifi>=2017.4.17 in /usr/local/lib/python3.10/dist-packages (from requests<3,>=2.21.0->tensorflow) (2024.8.30)\n",
      "Requirement already satisfied: idna<4,>=2.5 in /usr/local/lib/python3.10/dist-packages (from requests<3,>=2.21.0->tensorflow) (3.10)\n",
      "Requirement already satisfied: tensorboard-data-server<0.8.0,>=0.7.0 in /usr/local/lib/python3.10/dist-packages (from tensorboard<2.19,>=2.18->tensorflow) (0.7.2)\n",
      "Requirement already satisfied: markdown>=2.6.8 in /usr/local/lib/python3.10/dist-packages (from tensorboard<2.19,>=2.18->tensorflow) (3.7)\n",
      "Requirement already satisfied: werkzeug>=1.0.1 in /usr/local/lib/python3.10/dist-packages (from tensorboard<2.19,>=2.18->tensorflow) (3.1.3)\n",
      "Requirement already satisfied: MarkupSafe>=2.0 in /usr/local/lib/python3.10/dist-packages (from jinja2->torch) (3.0.2)\n",
      "Requirement already satisfied: pygments<3.0.0,>=2.13.0 in /usr/local/lib/python3.10/dist-packages (from rich->keras) (2.18.0)\n",
      "Requirement already satisfied: markdown-it-py>=2.2.0 in /usr/local/lib/python3.10/dist-packages (from rich->keras) (3.0.0)\n",
      "Requirement already satisfied: mdurl~=0.1 in /usr/local/lib/python3.10/dist-packages (from markdown-it-py>=2.2.0->rich->keras) (0.1.2)\n",
      "Installing collected packages: numpy, iisignature_tensorflow_2\n",
      "  Attempting uninstall: numpy\n",
      "    Found existing installation: numpy 2.0.2\n",
      "    Uninstalling numpy-2.0.2:\n",
      "      Successfully uninstalled numpy-2.0.2\n",
      "Successfully installed iisignature_tensorflow_2-0.1.0 numpy-1.26.4\n",
      "\u001b[33mWARNING: Running pip as the 'root' user can result in broken permissions and conflicting behaviour with the system package manager. It is recommended to use a virtual environment instead: https://pip.pypa.io/warnings/venv\u001b[0m\u001b[33m\n",
      "\u001b[0m"
     ]
    }
   ],
   "source": [
    "!pip install \"jax[cuda]\" tensorflow torch keras jaxtyping signax iisignature iisignature_tensorflow_2"
   ]
  },
  {
   "cell_type": "code",
   "execution_count": 1,
   "id": "94c6fe68-1932-401c-9795-0f81a2787768",
   "metadata": {
    "scrolled": true
   },
   "outputs": [
    {
     "name": "stdout",
     "output_type": "stream",
     "text": [
      "Requirement already satisfied: keras in /usr/local/lib/python3.11/dist-packages (3.6.0)\n",
      "Collecting jaxtyping\n",
      "  Downloading jaxtyping-0.2.36-py3-none-any.whl.metadata (6.5 kB)\n",
      "Collecting signax\n",
      "  Downloading signax-0.2.1-py3-none-any.whl.metadata (6.3 kB)\n",
      "Collecting iisignature\n",
      "  Downloading iisignature-0.24.tar.gz (1.3 MB)\n",
      "\u001b[2K     \u001b[90m━━━━━━━━━━━━━━━━━━━━━━━━━━━━━━━━━━━━━━━━\u001b[0m \u001b[32m1.3/1.3 MB\u001b[0m \u001b[31m8.0 MB/s\u001b[0m eta \u001b[36m0:00:00\u001b[0m\n",
      "\u001b[?25h  Preparing metadata (setup.py) ... \u001b[?25ldone\n",
      "\u001b[?25hCollecting iisignature_tensorflow_2\n",
      "  Downloading iisignature_tensorflow_2-0.1.0-py3-none-any.whl.metadata (2.0 kB)\n",
      "Requirement already satisfied: absl-py in /usr/local/lib/python3.11/dist-packages (from keras) (2.1.0)\n",
      "Requirement already satisfied: numpy in /usr/local/lib/python3.11/dist-packages (from keras) (2.0.2)\n",
      "Requirement already satisfied: rich in /usr/local/lib/python3.11/dist-packages (from keras) (13.9.3)\n",
      "Requirement already satisfied: namex in /usr/local/lib/python3.11/dist-packages (from keras) (0.0.8)\n",
      "Requirement already satisfied: h5py in /usr/local/lib/python3.11/dist-packages (from keras) (3.12.1)\n",
      "Requirement already satisfied: optree in /usr/local/lib/python3.11/dist-packages (from keras) (0.13.0)\n",
      "Requirement already satisfied: ml-dtypes in /usr/local/lib/python3.11/dist-packages (from keras) (0.4.1)\n",
      "Requirement already satisfied: packaging in /usr/local/lib/python3.11/dist-packages (from keras) (24.1)\n",
      "Collecting equinox (from signax)\n",
      "  Downloading equinox-0.11.8-py3-none-any.whl.metadata (18 kB)\n",
      "Collecting jax>=0.3.10 (from signax)\n",
      "  Downloading jax-0.4.35-py3-none-any.whl.metadata (22 kB)\n",
      "Collecting jaxlib (from signax)\n",
      "  Downloading jaxlib-0.4.35-cp311-cp311-manylinux2014_x86_64.whl.metadata (983 bytes)\n",
      "Collecting numpy (from keras)\n",
      "  Downloading numpy-1.26.4-cp311-cp311-manylinux_2_17_x86_64.manylinux2014_x86_64.whl.metadata (61 kB)\n",
      "Requirement already satisfied: tensorflow<3,>=2.8 in /usr/local/lib/python3.11/dist-packages (from iisignature_tensorflow_2) (2.18.0)\n",
      "Requirement already satisfied: opt-einsum in /usr/local/lib/python3.11/dist-packages (from jax>=0.3.10->signax) (3.4.0)\n",
      "Collecting scipy>=1.10 (from jax>=0.3.10->signax)\n",
      "  Downloading scipy-1.14.1-cp311-cp311-manylinux_2_17_x86_64.manylinux2014_x86_64.whl.metadata (60 kB)\n",
      "Requirement already satisfied: astunparse>=1.6.0 in /usr/local/lib/python3.11/dist-packages (from tensorflow<3,>=2.8->iisignature_tensorflow_2) (1.6.3)\n",
      "Requirement already satisfied: flatbuffers>=24.3.25 in /usr/local/lib/python3.11/dist-packages (from tensorflow<3,>=2.8->iisignature_tensorflow_2) (24.3.25)\n",
      "Requirement already satisfied: gast!=0.5.0,!=0.5.1,!=0.5.2,>=0.2.1 in /usr/local/lib/python3.11/dist-packages (from tensorflow<3,>=2.8->iisignature_tensorflow_2) (0.6.0)\n",
      "Requirement already satisfied: google-pasta>=0.1.1 in /usr/local/lib/python3.11/dist-packages (from tensorflow<3,>=2.8->iisignature_tensorflow_2) (0.2.0)\n",
      "Requirement already satisfied: libclang>=13.0.0 in /usr/local/lib/python3.11/dist-packages (from tensorflow<3,>=2.8->iisignature_tensorflow_2) (18.1.1)\n",
      "Requirement already satisfied: protobuf!=4.21.0,!=4.21.1,!=4.21.2,!=4.21.3,!=4.21.4,!=4.21.5,<6.0.0dev,>=3.20.3 in /usr/local/lib/python3.11/dist-packages (from tensorflow<3,>=2.8->iisignature_tensorflow_2) (5.28.3)\n",
      "Requirement already satisfied: requests<3,>=2.21.0 in /usr/local/lib/python3.11/dist-packages (from tensorflow<3,>=2.8->iisignature_tensorflow_2) (2.32.3)\n",
      "Requirement already satisfied: setuptools in /usr/local/lib/python3.11/dist-packages (from tensorflow<3,>=2.8->iisignature_tensorflow_2) (75.2.0)\n",
      "Requirement already satisfied: six>=1.12.0 in /usr/lib/python3/dist-packages (from tensorflow<3,>=2.8->iisignature_tensorflow_2) (1.16.0)\n",
      "Requirement already satisfied: termcolor>=1.1.0 in /usr/local/lib/python3.11/dist-packages (from tensorflow<3,>=2.8->iisignature_tensorflow_2) (2.5.0)\n",
      "Requirement already satisfied: typing-extensions>=3.6.6 in /usr/local/lib/python3.11/dist-packages (from tensorflow<3,>=2.8->iisignature_tensorflow_2) (4.12.2)\n",
      "Requirement already satisfied: wrapt>=1.11.0 in /usr/local/lib/python3.11/dist-packages (from tensorflow<3,>=2.8->iisignature_tensorflow_2) (1.16.0)\n",
      "Requirement already satisfied: grpcio<2.0,>=1.24.3 in /usr/local/lib/python3.11/dist-packages (from tensorflow<3,>=2.8->iisignature_tensorflow_2) (1.67.0)\n",
      "Requirement already satisfied: tensorboard<2.19,>=2.18 in /usr/local/lib/python3.11/dist-packages (from tensorflow<3,>=2.8->iisignature_tensorflow_2) (2.18.0)\n",
      "Requirement already satisfied: tensorflow-io-gcs-filesystem>=0.23.1 in /usr/local/lib/python3.11/dist-packages (from tensorflow<3,>=2.8->iisignature_tensorflow_2) (0.37.1)\n",
      "Requirement already satisfied: markdown-it-py>=2.2.0 in /usr/local/lib/python3.11/dist-packages (from rich->keras) (3.0.0)\n",
      "Requirement already satisfied: pygments<3.0.0,>=2.13.0 in /usr/local/lib/python3.11/dist-packages (from rich->keras) (2.18.0)\n",
      "Requirement already satisfied: wheel<1.0,>=0.23.0 in /usr/local/lib/python3.11/dist-packages (from astunparse>=1.6.0->tensorflow<3,>=2.8->iisignature_tensorflow_2) (0.44.0)\n",
      "Requirement already satisfied: mdurl~=0.1 in /usr/local/lib/python3.11/dist-packages (from markdown-it-py>=2.2.0->rich->keras) (0.1.2)\n",
      "Requirement already satisfied: charset-normalizer<4,>=2 in /usr/local/lib/python3.11/dist-packages (from requests<3,>=2.21.0->tensorflow<3,>=2.8->iisignature_tensorflow_2) (3.4.0)\n",
      "Requirement already satisfied: idna<4,>=2.5 in /usr/local/lib/python3.11/dist-packages (from requests<3,>=2.21.0->tensorflow<3,>=2.8->iisignature_tensorflow_2) (3.10)\n",
      "Requirement already satisfied: urllib3<3,>=1.21.1 in /usr/local/lib/python3.11/dist-packages (from requests<3,>=2.21.0->tensorflow<3,>=2.8->iisignature_tensorflow_2) (2.2.3)\n",
      "Requirement already satisfied: certifi>=2017.4.17 in /usr/local/lib/python3.11/dist-packages (from requests<3,>=2.21.0->tensorflow<3,>=2.8->iisignature_tensorflow_2) (2024.8.30)\n",
      "Requirement already satisfied: markdown>=2.6.8 in /usr/local/lib/python3.11/dist-packages (from tensorboard<2.19,>=2.18->tensorflow<3,>=2.8->iisignature_tensorflow_2) (3.7)\n",
      "Requirement already satisfied: tensorboard-data-server<0.8.0,>=0.7.0 in /usr/local/lib/python3.11/dist-packages (from tensorboard<2.19,>=2.18->tensorflow<3,>=2.8->iisignature_tensorflow_2) (0.7.2)\n",
      "Requirement already satisfied: werkzeug>=1.0.1 in /usr/local/lib/python3.11/dist-packages (from tensorboard<2.19,>=2.18->tensorflow<3,>=2.8->iisignature_tensorflow_2) (3.0.5)\n",
      "Requirement already satisfied: MarkupSafe>=2.1.1 in /usr/local/lib/python3.11/dist-packages (from werkzeug>=1.0.1->tensorboard<2.19,>=2.18->tensorflow<3,>=2.8->iisignature_tensorflow_2) (3.0.2)\n",
      "Downloading jaxtyping-0.2.36-py3-none-any.whl (55 kB)\n",
      "Downloading signax-0.2.1-py3-none-any.whl (11 kB)\n",
      "Downloading iisignature_tensorflow_2-0.1.0-py3-none-any.whl (2.9 kB)\n",
      "Downloading jax-0.4.35-py3-none-any.whl (2.2 MB)\n",
      "\u001b[2K   \u001b[90m━━━━━━━━━━━━━━━━━━━━━━━━━━━━━━━━━━━━━━━━\u001b[0m \u001b[32m2.2/2.2 MB\u001b[0m \u001b[31m52.4 MB/s\u001b[0m eta \u001b[36m0:00:00\u001b[0m\n",
      "\u001b[?25hDownloading jaxlib-0.4.35-cp311-cp311-manylinux2014_x86_64.whl (87.3 MB)\n",
      "\u001b[2K   \u001b[90m━━━━━━━━━━━━━━━━━━━━━━━━━━━━━━━━━━━━━━━━\u001b[0m \u001b[32m87.3/87.3 MB\u001b[0m \u001b[31m13.9 MB/s\u001b[0m eta \u001b[36m0:00:00\u001b[0m00:01\u001b[0m00:01\u001b[0m\n",
      "\u001b[?25hDownloading numpy-1.26.4-cp311-cp311-manylinux_2_17_x86_64.manylinux2014_x86_64.whl (18.3 MB)\n",
      "\u001b[2K   \u001b[90m━━━━━━━━━━━━━━━━━━━━━━━━━━━━━━━━━━━━━━━━\u001b[0m \u001b[32m18.3/18.3 MB\u001b[0m \u001b[31m45.4 MB/s\u001b[0m eta \u001b[36m0:00:00\u001b[0ma \u001b[36m0:00:01\u001b[0m\n",
      "\u001b[?25hDownloading equinox-0.11.8-py3-none-any.whl (179 kB)\n",
      "Downloading scipy-1.14.1-cp311-cp311-manylinux_2_17_x86_64.manylinux2014_x86_64.whl (41.2 MB)\n",
      "\u001b[2K   \u001b[90m━━━━━━━━━━━━━━━━━━━━━━━━━━━━━━━━━━━━━━━━\u001b[0m \u001b[32m41.2/41.2 MB\u001b[0m \u001b[31m68.5 MB/s\u001b[0m eta \u001b[36m0:00:00\u001b[0ma \u001b[36m0:00:01\u001b[0m\n",
      "\u001b[?25hBuilding wheels for collected packages: iisignature\n",
      "  Building wheel for iisignature (setup.py) ... \u001b[?25ldone\n",
      "\u001b[?25h  Created wheel for iisignature: filename=iisignature-0.24-cp311-cp311-linux_x86_64.whl size=3246131 sha256=6dff37c3f540590b75d983d00d51e282322fb003d6210375fd2af5f494129256\n",
      "  Stored in directory: /root/.cache/pip/wheels/1c/f4/57/0b4d3787a07f20a3cd1a91835d6247f55ef899345267bcd6df\n",
      "Successfully built iisignature\n",
      "Installing collected packages: numpy, jaxtyping, scipy, iisignature, jaxlib, jax, iisignature_tensorflow_2, equinox, signax\n",
      "  Attempting uninstall: numpy\n",
      "    Found existing installation: numpy 2.0.2\n",
      "    Uninstalling numpy-2.0.2:\n",
      "      Successfully uninstalled numpy-2.0.2\n",
      "Successfully installed equinox-0.11.8 iisignature-0.24 iisignature_tensorflow_2-0.1.0 jax-0.4.35 jaxlib-0.4.35 jaxtyping-0.2.36 numpy-1.26.4 scipy-1.14.1 signax-0.2.1\n",
      "\u001b[33mWARNING: Running pip as the 'root' user can result in broken permissions and conflicting behaviour with the system package manager, possibly rendering your system unusable.It is recommended to use a virtual environment instead: https://pip.pypa.io/warnings/venv. Use the --root-user-action option if you know what you are doing and want to suppress this warning.\u001b[0m\u001b[33m\n",
      "\u001b[0m\n",
      "\u001b[1m[\u001b[0m\u001b[34;49mnotice\u001b[0m\u001b[1;39;49m]\u001b[0m\u001b[39;49m A new release of pip is available: \u001b[0m\u001b[31;49m24.2\u001b[0m\u001b[39;49m -> \u001b[0m\u001b[32;49m24.3.1\u001b[0m\n",
      "\u001b[1m[\u001b[0m\u001b[34;49mnotice\u001b[0m\u001b[1;39;49m]\u001b[0m\u001b[39;49m To update, run: \u001b[0m\u001b[32;49mpython3 -m pip install --upgrade pip\u001b[0m\n"
     ]
    }
   ],
   "source": [
    "!pip install keras jaxtyping signax iisignature iisignature_tensorflow_2"
   ]
  },
  {
   "cell_type": "code",
   "execution_count": 2,
   "id": "b068b75a-e5ed-4fe4-8eec-11fbfd662cd6",
   "metadata": {},
   "outputs": [
    {
     "name": "stderr",
     "output_type": "stream",
     "text": [
      "2024-11-21 18:31:12.144906: E external/local_xla/xla/stream_executor/cuda/cuda_fft.cc:477] Unable to register cuFFT factory: Attempting to register factory for plugin cuFFT when one has already been registered\n",
      "WARNING: All log messages before absl::InitializeLog() is called are written to STDERR\n",
      "E0000 00:00:1732213872.161853     638 cuda_dnn.cc:8310] Unable to register cuDNN factory: Attempting to register factory for plugin cuDNN when one has already been registered\n",
      "E0000 00:00:1732213872.166912     638 cuda_blas.cc:1418] Unable to register cuBLAS factory: Attempting to register factory for plugin cuBLAS when one has already been registered\n"
     ]
    }
   ],
   "source": [
    "# Standard library imports\n",
    "import os\n",
    "import time\n",
    "from functools import partial\n",
    "from typing import Callable, List, Optional, Union\n",
    "\n",
    "# Third-party scientific computing imports\n",
    "import numpy as np\n",
    "import iisignature\n",
    "import signax\n",
    "\n",
    "# Keras and backend configuration\n",
    "BACKEND = 'tensorflow'\n",
    "os.environ['KERAS_BACKEND'] = BACKEND\n",
    "\n",
    "import keras\n",
    "from keras import ops\n",
    "\n",
    "# Backend-specific type definitions\n",
    "backend = keras.backend.backend()\n",
    "if backend == 'tensorflow':\n",
    "    import tensorflow as tf\n",
    "    Array = tf.Tensor\n",
    "elif backend == 'jax':\n",
    "    from jaxtyping import Array, Float\n",
    "elif backend == 'torch':\n",
    "    import torch\n",
    "    Array = torch.Tensor"
   ]
  },
  {
   "cell_type": "markdown",
   "id": "a00d7774-ab74-402f-a482-16af6d21cae7",
   "metadata": {},
   "source": [
    "# Matrix Operations"
   ]
  },
  {
   "cell_type": "code",
   "execution_count": 49,
   "id": "510988ba-d163-4284-b7b3-92108ad295b9",
   "metadata": {},
   "outputs": [],
   "source": [
    "def otimes(x: Array, y: Array) -> Array:\n",
    "    \"\"\"Tensor product\n",
    "\n",
    "    Args:\n",
    "        x: size=(n,n,...,n), ndim=ndim_x\n",
    "        y: size=(n,n,...,n), ndim=ndim_y\n",
    "    Return:\n",
    "        Tensor size (n,n,...,n) with ndim=ndim_x + ndim_y\n",
    "    \"\"\"\n",
    "    expanded_x = ops.reshape(x, x.shape + (1,) * y.ndim)\n",
    "    expanded_y = ops.reshape(y, (1,) * x.ndim + y.shape)\n",
    "    return expanded_x * expanded_y\n",
    "\n",
    "\n",
    "def addcmul(x: Array, y: Array, z: Array) -> Array:\n",
    "    \"\"\"Similar to `torch.addcmul` returning\n",
    "        x + y * z\n",
    "    Here `*` is the tensor product\n",
    "    \"\"\"\n",
    "    return x + otimes(y, z)\n",
    "\n",
    "\n",
    "def restricted_exp(input: Array, depth: int) -> list[Array]:\n",
    "    \"\"\"Restricted exponentiate\n",
    "\n",
    "    As `depth` is fixed so we can make it as a static argument.\n",
    "    This allows us to `jit` this function\n",
    "    Args:\n",
    "        input: shape (n, )\n",
    "        depth: the depth of signature\n",
    "    Return:\n",
    "        A list of `jnp.ndarray` contains tensors\n",
    "    \"\"\"\n",
    "    ret = [input]\n",
    "    for i in range(2, depth + 1):\n",
    "        ret.append(otimes(ret[-1], input / i))\n",
    "    return ret\n",
    "\n",
    "\n",
    "def mult_fused_restricted_exp(z: Array, A: list[Array]) -> list[Array]:\n",
    "    \"\"\"\n",
    "    Multiply-fused-exponentiate\n",
    "\n",
    "    Args:\n",
    "        z: shape (n,)\n",
    "        A: a list of `jnp.array` [(n, ), (n x n), (n x n x n), ...]\n",
    "    Return:\n",
    "        A list of which elements have the same shape with `A`\n",
    "    \"\"\"\n",
    "    depth = len(A)\n",
    "    ret = []\n",
    "\n",
    "    for depth_index in range(depth):\n",
    "        current = ops.array(1.0, dtype=z.dtype)\n",
    "        for i in range(depth_index + 1):\n",
    "            current = addcmul(x=A[i], y=current, z=z / (depth_index + 1 - i))\n",
    "        ret.append(current)\n",
    "\n",
    "    return ret\n",
    "\n",
    "def batch_otimes(x: Array, y: Array) -> Array:\n",
    "    \"\"\"Tensor product\n",
    "\n",
    "    Args:\n",
    "        x: size=(n,n,...,n), ndim=ndim_x\n",
    "        y: size=(n,n,...,n), ndim=ndim_y\n",
    "    Return:\n",
    "        Tensor size (n,n,...,n) with ndim=ndim_x + ndim_y\n",
    "    \"\"\"\n",
    "    expanded_x = ops.reshape(x, (x.shape + (1,) * (y.ndim - 1)))\n",
    "    expanded_y = ops.reshape(y, (y.shape[0],) + (1,) * (x.ndim - 1) + y.shape[1:])\n",
    "    return expanded_x * expanded_y\n",
    "    \n",
    "def batch_restricted_exp(input: Array, depth: int) -> list[Array]:\n",
    "    \"\"\"Restricted exponentiate\n",
    "\n",
    "    As `depth` is fixed so we can make it as a static argument.\n",
    "    This allows us to `jit` this function\n",
    "    Args:\n",
    "        input: shape (n, )\n",
    "        depth: the depth of signature\n",
    "    Return:\n",
    "        A list of `jnp.ndarray` contains tensors\n",
    "    \"\"\"\n",
    "    ret = [input]\n",
    "    for i in range(2, depth + 1):\n",
    "        ret.append(batch_otimes(ret[-1], input / i))\n",
    "    return ret\n",
    "\n",
    "def batch_mult_fused_restricted_exp(z: Array, A: list[Array]) -> list[Array]:\n",
    "    \"\"\"\n",
    "    Multiply-fused-exponentiate\n",
    "\n",
    "    Args:\n",
    "        z: shape (n,)\n",
    "        A: a list of `jnp.array` [(n, ), (n x n), (n x n x n), ...]\n",
    "    Return:\n",
    "        A list of which elements have the same shape with `A`\n",
    "    \"\"\"\n",
    "    depth = len(A)\n",
    "    ret = []\n",
    "\n",
    "    for depth_index in range(depth):\n",
    "        current = ops.array(1.0, dtype=z.dtype)\n",
    "        for i in range(depth_index + 1):\n",
    "            current = batch_addcmul(x=A[i], y=current, z=z / (depth_index + 1 - i))\n",
    "        ret.append(current)\n",
    "\n",
    "    return ret\n",
    "\n",
    "def batch_addcmul(x: Array, y: Array, z: Array) -> Array:\n",
    "    \"\"\"Similar to `torch.addcmul` returning\n",
    "        x + y * z\n",
    "    Here `*` is the tensor product\n",
    "    \"\"\"\n",
    "    return x + batch_otimes(y, z)\n"
   ]
  },
  {
   "cell_type": "markdown",
   "id": "a581b868-5025-44e5-912a-85adf18db53c",
   "metadata": {},
   "source": [
    "# Signature computation"
   ]
  },
  {
   "cell_type": "code",
   "execution_count": 45,
   "id": "b7a25c6a-0027-472b-8417-3fe11b4d5322",
   "metadata": {},
   "outputs": [],
   "source": [
    "def get_largest_divisor_under_20(n: int) -> int:\n",
    "    \"\"\"Get largest divisor under 20 for scan unrolling\"\"\"\n",
    "    for i in range(20, 0, -1):\n",
    "        if i <= n and n % i == 0:\n",
    "            return i\n",
    "    return 10\n",
    "\n",
    "def signature(\n",
    "    path: Array,\n",
    "    depth: int,\n",
    "    stream: bool = False,\n",
    "    unroll:Optional[Union[bool, int]] = None,\n",
    ") -> list[Array] | Array:\n",
    "    \"\"\"\n",
    "    Compute the signature of a path. Automatically dispatches to vmap or not based on the shape of `path`.\n",
    "\n",
    "    Args:\n",
    "        path: size (length, dim) or (batch, length, dim)\n",
    "        depth: signature is truncated at this depth\n",
    "        stream: whether to handle `path` as a stream. Default is False\n",
    "        flatten: whether to flatten the output. Default is False\n",
    "        num_chunks: number of chunks to use. Default is 1. If > 1, path will be divided into\n",
    "        chunks to compute signatures. Then, obtained signatures are combined (using Chen's identity).\n",
    "\n",
    "    Returns:\n",
    "        If `stream` is `True`, this will return a list of `Array` in a form\n",
    "            [(path_len - 1, dim), (path_len - 1, dim, dim), (path_len - 1, dim, dim, dim), ...]\n",
    "        If `stream` is `False`, this will return a list of `Array` in a form\n",
    "            [(dim, ), (dim, dim), (dim, dim, dim), ...]\n",
    "        If `flatten` is `True`, this will return a flattened array of shape\n",
    "            (dim + dim**2 + ... + dim**depth, )\n",
    "        If your path is of shape (batch, path_len, dim), all of the above will have an extra\n",
    "        dimension of size `batch` as the first dimension.\n",
    "\n",
    "    \"\"\"\n",
    "\n",
    "    # this is just to handle shape errors\n",
    "    if path.ndim == 2:\n",
    "        return _single_signature(path, depth=depth, stream=stream, unroll=unroll)\n",
    "    if path.ndim == 3:  # batch case (mimics signatory)\n",
    "        return _batch_signature(path, depth=depth, stream=stream, unroll=unroll)\n",
    "    msg = f\"Path must be of shape (path_length, path_dim) or (batch, path_length, path_dim), got {path.shape}\"\n",
    "    raise ValueError(msg)\n",
    "\n",
    "def _single_signature(\n",
    "    path: Array,\n",
    "    depth: int,\n",
    "    stream: bool = False,\n",
    "    unroll: Optional[Union[bool, int]] = False,\n",
    ") -> list[Array] | Array:\n",
    "    \"\"\"\n",
    "    Compute the signature of a path. Optionally, divide the path into chunks to compute signatures\n",
    "    and combine them using Chen's identity (useful for long paths).\n",
    "\n",
    "    Args:\n",
    "        path: size (length, dim)\n",
    "        depth: signature is truncated at this depth\n",
    "        stream: whether to handle `path` as a stream. Default is False\n",
    "\n",
    "        If `stream` is `True`, this will return an array of form\n",
    "            (path_len - 1, sum(dim**i for i in range depth))\n",
    "        If `stream` is `False`, this will return an array in a form\n",
    "            (sum(dim**i for i in range depth))\n",
    "    \"\"\"\n",
    "    path_increments = path[1:,:] - path[:-1,:]\n",
    "    exp_term = restricted_exp(path_increments[0], depth=depth)\n",
    "\n",
    "    carry = exp_term\n",
    "    if stream:\n",
    "        stacked =[carry]\n",
    "    for inc_idx in range(1, path_increments.shape[0]):\n",
    "        inc = path_increments[inc_idx]\n",
    "        carry = mult_fused_restricted_exp(inc, carry)\n",
    "        if stream:\n",
    "            stacked.append(carry)\n",
    "        \n",
    "    if stream:\n",
    "        res = ops.stack([\n",
    "            ops.concatenate([ops.reshape(c, (-1,)) for c in res])\n",
    "            for res in stacked\n",
    "        ], axis=0)\n",
    "\n",
    "    else:\n",
    "        res = carry\n",
    "        # `res` has shape [(dim,), (dim, dim), ...]\n",
    "        res = ops.concatenate([ops.reshape(c, (-1,)) for c in res])\n",
    "           \n",
    "    return res\n",
    "\n",
    "\n",
    "def _batch_signature(\n",
    "    path: Array,\n",
    "    depth: int,\n",
    "    stream: bool = False,\n",
    "    unroll: Optional[Union[bool, int]] = None,\n",
    ") -> List[Array] | Array:\n",
    "    \"\"\"\n",
    "    Compute the signature of a path matching original implementation exactly.\n",
    "    \"\"\"\n",
    "    batch_size = path.shape[0]\n",
    "    seq_len = path.shape[1]\n",
    "    path_increments = path[:, 1:] - path[:, :-1]\n",
    "    exp_term = batch_restricted_exp(path_increments[:, 0], depth=depth)\n",
    "    unroll_level = unroll if unroll is not None else get_largest_divisor_under_20(seq_len-1)\n",
    "    \n",
    "    if not stream:\n",
    "        # Non-streaming case\n",
    "        def scan_fn(carry, increment):\n",
    "            new_carry = batch_mult_fused_restricted_exp(increment, carry)\n",
    "            return new_carry, None\n",
    "            \n",
    "        final_carry, _ = ops.scan(\n",
    "            scan_fn,\n",
    "            init=exp_term,\n",
    "            xs=ops.moveaxis(path_increments[:, 1:], 1, 0),  # Reshape to (steps, batch, dim)\n",
    "            unroll=unroll_level,\n",
    "            length=path_increments.shape[1] - 1\n",
    "        )\n",
    "        # Match original format: concatenate at the very end\n",
    "        return ops.concatenate([ops.reshape(c, (batch_size,-1)) for c in final_carry], axis=1)\n",
    "    else:\n",
    "        # Streaming case\n",
    "        def scan_fn(carry, increment):\n",
    "            new_carry = batch_mult_fused_restricted_exp(increment, carry)\n",
    "            return new_carry, new_carry\n",
    "        \n",
    "        _, stacked = ops.scan(\n",
    "            scan_fn,\n",
    "            init=exp_term,\n",
    "            xs=ops.moveaxis(path_increments[:, 1:], 1, 0),  # Shape: (batch, steps, dim)\n",
    "            unroll=unroll_level,\n",
    "            length=path_increments.shape[1] - 1\n",
    "        )\n",
    "        res = [\n",
    "            ops.concatenate([first[None, ...], rest], axis=0)\n",
    "            for first, rest in zip(exp_term, stacked)\n",
    "        ]\n",
    "        # Match original stacking and concatenation\n",
    "        return ops.concatenate([ops.reshape(ops.moveaxis(r, 1, 0), (batch_size, seq_len-1, -1)) for r in res], axis=2)\n",
    "\n",
    "#Needed a tensorflow variant without scan \n",
    "\n",
    "def tf_signature(\n",
    "    path,\n",
    "    depth: int,\n",
    "    stream: bool = False,\n",
    "    unroll: int = 1,\n",
    ") -> list[Array] | Array:\n",
    "    \"\"\"\n",
    "    Compute the signature of a path. Automatically dispatches to vmap or not based on the shape of `path`.\n",
    "\n",
    "    Args:\n",
    "        path: size (length, dim) or (batch, length, dim)\n",
    "        depth: signature is truncated at this depth\n",
    "        stream: whether to handle `path` as a stream. Default is False\n",
    "        flatten: whether to flatten the output. Default is False\n",
    "        num_chunks: number of chunks to use. Default is 1. If > 1, path will be divided into\n",
    "        chunks to compute signatures. Then, obtained signatures are combined (using Chen's identity).\n",
    "\n",
    "    Returns:\n",
    "        If `stream` is `True`, this will return a list of `Array` in a form\n",
    "            [(path_len - 1, dim), (path_len - 1, dim, dim), (path_len - 1, dim, dim, dim), ...]\n",
    "        If `stream` is `False`, this will return a list of `Array` in a form\n",
    "            [(dim, ), (dim, dim), (dim, dim, dim), ...]\n",
    "        If `flatten` is `True`, this will return a flattened array of shape\n",
    "            (dim + dim**2 + ... + dim**depth, )\n",
    "        If your path is of shape (batch, path_len, dim), all of the above will have an extra\n",
    "        dimension of size `batch` as the first dimension.\n",
    "\n",
    "    \"\"\"\n",
    "\n",
    "    # this is just to handle shape errors\n",
    "    if path.ndim == 2:\n",
    "        return _tf_single_signature(path, depth=depth, stream=stream)\n",
    "    if path.ndim == 3:  # batch case (mimics signatory)\n",
    "        return _tf_batch_signature(path, depth=depth, stream=stream)\n",
    "    msg = f\"Path must be of shape (path_length, path_dim) or (batch, path_length, path_dim), got {path.shape}\"\n",
    "    raise ValueError(msg)\n",
    "\n",
    "def _tf_single_signature(\n",
    "    path,\n",
    "    depth: int,\n",
    "    stream: bool = False,\n",
    ") -> list[Array] | Array:\n",
    "    \"\"\"\n",
    "    Compute the signature of a path. Optionally, divide the path into chunks to compute signatures\n",
    "    and combine them using Chen's identity (useful for long paths).\n",
    "\n",
    "    Args:\n",
    "        path: size (length, dim)\n",
    "        depth: signature is truncated at this depth\n",
    "        stream: whether to handle `path` as a stream. Default is False\n",
    "\n",
    "        If `stream` is `True`, this will return an array of form\n",
    "            (path_len - 1, sum(dim**i for i in range depth))\n",
    "        If `stream` is `False`, this will return an array in a form\n",
    "            (sum(dim**i for i in range depth))\n",
    "    \"\"\"\n",
    "    path_increments = path[1:,:] - path[:-1,:]\n",
    "    exp_term = restricted_exp(path_increments[0], depth=depth)\n",
    "\n",
    "    carry = exp_term\n",
    "    if stream:\n",
    "        stacked =[carry]\n",
    "    for inc_idx in range(1, path_increments.shape[0]):\n",
    "        inc = path_increments[inc_idx]\n",
    "        carry = mult_fused_restricted_exp(inc, carry)\n",
    "        if stream:\n",
    "            stacked.append(carry)\n",
    "        \n",
    "    if stream:\n",
    "        res = ops.stack([\n",
    "            ops.concatenate([ops.reshape(c, (-1,)) for c in res])\n",
    "            for res in stacked\n",
    "        ], axis=0)\n",
    "\n",
    "    else:\n",
    "        res = carry\n",
    "        # `res` has shape [(dim,), (dim, dim), ...]\n",
    "        res = ops.concatenate([ops.reshape(c, (-1,)) for c in res])\n",
    "           \n",
    "    return res\n",
    "\n",
    "def _tf_batch_signature(\n",
    "    path,\n",
    "    depth: int,\n",
    "    stream: bool = False,\n",
    ") -> list[Array] | Array:\n",
    "    \"\"\"\n",
    "    Compute the signature of a path. Optionally, divide the path into chunks to compute signatures\n",
    "    and combine them using Chen's identity (useful for long paths).\n",
    "\n",
    "    Args:\n",
    "        path: size (length, dim)\n",
    "        depth: signature is truncated at this depth\n",
    "        stream: whether to handle `path` as a stream. Default is False\n",
    "\n",
    "        If `stream` is `True`, this will return an array of form\n",
    "            (path_len - 1, sum(dim**i for i in range depth))\n",
    "        If `stream` is `False`, this will return an array in a form\n",
    "            (sum(dim**i for i in range depth))\n",
    "    \"\"\"\n",
    "    batch_size = path.shape[0]\n",
    "    path_increments = path[:,1:] - path[:,:-1]\n",
    "    exp_term = batch_restricted_exp(path_increments[:, 0], depth=depth)\n",
    "    \n",
    "    carry = exp_term\n",
    "    if stream:\n",
    "        stacked =[carry]\n",
    "    for inc_idx in range(1, path_increments.shape[1]):\n",
    "        inc = path_increments[:, inc_idx]\n",
    "        carry = batch_mult_fused_restricted_exp(inc, carry)   \n",
    "        if stream:\n",
    "            stacked.append(carry)\n",
    "    if stream:\n",
    "        res = ops.stack([\n",
    "            ops.concatenate([ops.reshape(c, (batch_size,-1,)) for c in res], axis=1)\n",
    "            for res in stacked\n",
    "        ], axis=1)\n",
    "    else:\n",
    "        res = carry\n",
    "        res = ops.concatenate([ops.reshape(c, (batch_size,-1,)) for c in res], axis=1)\n",
    "    return res\n",
    "\n"
   ]
  },
  {
   "cell_type": "markdown",
   "id": "fcabb643-ad33-458b-9e1d-d32d31c3a3a2",
   "metadata": {},
   "source": [
    "# Pure signature computation performance versus iisignature and signax"
   ]
  },
  {
   "cell_type": "markdown",
   "id": "1d141c3e-1964-414b-80eb-da930c03465e",
   "metadata": {},
   "source": [
    "## Runed with Jax Backend for Keras"
   ]
  },
  {
   "cell_type": "code",
   "execution_count": 98,
   "id": "dd1a556e-d62f-4b6e-b467-005377b41455",
   "metadata": {},
   "outputs": [
    {
     "name": "stdout",
     "output_type": "stream",
     "text": [
      "2.86 s ± 9.62 ms per loop (mean ± std. dev. of 7 runs, 1 loop each)\n",
      "21 ms ± 4.66 μs per loop (mean ± std. dev. of 7 runs, 100 loops each)\n",
      "758 ms ± 18.1 ms per loop (mean ± std. dev. of 7 runs, 1 loop each)\n"
     ]
    }
   ],
   "source": [
    "paths = np.random.randn(10000,100,5)\n",
    "depth = 4\n",
    "\n",
    "iisig = iisignature.sig(paths, depth)\n",
    "signaxsig = signax.signature(paths, depth)\n",
    "kerassig = signature(paths, depth)\n",
    "\n",
    "assert np.max(np.abs(iisig - signaxsig)) < 1e-3 and np.max(np.abs(iisig - kerassig)) < 1e-3\n",
    "\n",
    "%timeit iisignature.sig(paths, depth)\n",
    "%timeit signax.signature(paths, depth)\n",
    "%timeit signature(paths, depth)"
   ]
  },
  {
   "cell_type": "markdown",
   "id": "20a38bd8-57f0-43a0-a083-ce74a6eabc3b",
   "metadata": {},
   "source": [
    "### Conclusion: \n",
    "\n",
    "For single forward pace signax is the most optimal (unsurprisingly), as it avoid many inderection and can make real use of jax functions directly\n",
    "\n",
    "Still our proposed approach still overperform the standard iisignature one, but this is only true with high batch size / signature level / number of features"
   ]
  },
  {
   "cell_type": "markdown",
   "id": "97748536-2e5d-4c66-b14c-468af45c8f1f",
   "metadata": {},
   "source": [
    "## Runed with Tensorflow Backend for Keras"
   ]
  },
  {
   "cell_type": "code",
   "execution_count": 5,
   "id": "5406efa6-d0a2-4fb8-b2d1-eaca0d5aca18",
   "metadata": {},
   "outputs": [
    {
     "name": "stderr",
     "output_type": "stream",
     "text": [
      "An NVIDIA GPU may be present on this machine, but a CUDA-enabled jaxlib is not installed. Falling back to cpu.\n",
      "W0000 00:00:1732213874.612505     638 gpu_device.cc:2344] Cannot dlopen some GPU libraries. Please make sure the missing libraries mentioned above are installed properly if you would like to use GPU. Follow the guide at https://www.tensorflow.org/install/gpu for how to download and setup the required libraries for your platform.\n",
      "Skipping registering GPU devices...\n"
     ]
    },
    {
     "name": "stdout",
     "output_type": "stream",
     "text": [
      "237 ms ± 433 μs per loop (mean ± std. dev. of 7 runs, 1 loop each)\n",
      "43.3 ms ± 1.19 ms per loop (mean ± std. dev. of 7 runs, 100 loops each)\n",
      "958 ms ± 37.6 ms per loop (mean ± std. dev. of 7 runs, 1 loop each)\n"
     ]
    }
   ],
   "source": [
    "paths = np.random.randn(1000,100,5)\n",
    "depth = 4\n",
    "\n",
    "iisig = iisignature.sig(paths, depth)\n",
    "signaxsig = signax.signature(paths, depth)\n",
    "kerassig = signature(paths, depth)\n",
    "\n",
    "assert np.max(np.abs(iisig - signaxsig)) < 1e-3 and np.max(np.abs(iisig - kerassig)) < 1e-3\n",
    "\n",
    "%timeit iisignature.sig(paths, depth)\n",
    "%timeit signax.signature(paths, depth)\n",
    "%timeit signature(paths, depth)"
   ]
  },
  {
   "cell_type": "markdown",
   "id": "ae37fced-2715-42e5-a042-5e8416cccc21",
   "metadata": {},
   "source": [
    "## Conclusion\n",
    "\n",
    "With a number of element divided by 10 the time taken is still the same for the keras sig as with the jax backend.\n",
    "\n",
    "However it's interesting to note that this run has been done on a machine with a non cuda version of jax, resulting in signax performance degraded in comparison. It thus seems to appears that our proposed method in forward pass difference of performance lies in the use of the GPU by jax directly while keras only used it on compiled model at train time."
   ]
  },
  {
   "cell_type": "markdown",
   "id": "96379627-4c79-4b55-a24b-ddb534b2bb0b",
   "metadata": {},
   "source": [
    "## Runed with Torch Backend"
   ]
  },
  {
   "cell_type": "code",
   "execution_count": 11,
   "id": "0aaa7e13-a00a-42e3-a89b-0cdfe6ac5525",
   "metadata": {},
   "outputs": [
    {
     "name": "stdout",
     "output_type": "stream",
     "text": [
      "284 ms ± 1.97 ms per loop (mean ± std. dev. of 7 runs, 1 loop each)\n",
      "1.43 ms ± 786 ns per loop (mean ± std. dev. of 7 runs, 1,000 loops each)\n",
      "143 ms ± 860 μs per loop (mean ± std. dev. of 7 runs, 10 loops each)\n"
     ]
    }
   ],
   "source": [
    "paths = np.random.randn(1000,100,5)\n",
    "depth = 4\n",
    "\n",
    "iisig = iisignature.sig(paths, depth)\n",
    "signaxsig = signax.signature(paths, depth)\n",
    "kerassig = signature(paths, depth)\n",
    "\n",
    "assert np.max(np.abs(iisig - signaxsig)) < 1e-3 and np.max(np.abs(iisig - kerassig.cpu().numpy())) < 1e-3\n",
    "\n",
    "%timeit iisignature.sig(paths, depth)\n",
    "%timeit signax.signature(paths, depth)\n",
    "%timeit signature(paths, depth)"
   ]
  },
  {
   "cell_type": "markdown",
   "id": "46be2444-c830-4e24-ab9f-935c68bde3ce",
   "metadata": {},
   "source": [
    "## Conclusion\n",
    "\n",
    "Torch is really better than tensorflow here for forward pass, but not at jax level"
   ]
  },
  {
   "cell_type": "markdown",
   "id": "7a645025-d84b-411e-bd65-4e4a9f9316cb",
   "metadata": {},
   "source": [
    "# Signature Layer"
   ]
  },
  {
   "cell_type": "code",
   "execution_count": 15,
   "id": "695e39a5-2da8-463a-933e-b8376e1d5c1c",
   "metadata": {},
   "outputs": [],
   "source": [
    "from iisignature_tensorflow_2 import SigLayer as iisigSigLayer\n",
    "\n",
    "class SigLayer(keras.layers.Layer):\n",
    "    def __init__(self, depth, stream = False, unroll = None, *args, **kwargs):\n",
    "        super().__init__(*args, **kwargs)\n",
    "        self.depth = depth\n",
    "        self.stream = stream\n",
    "        self.unroll = unroll\n",
    "        self.signature_func = signature if keras.backend.backend()!=\"tensorflow\" else tf_signature\n",
    "        \n",
    "    def call(self, inputs):\n",
    "        return self.signature_func(inputs, depth=self.depth, stream=self.stream, unroll=self.unroll)\n",
    "\n",
    "\n",
    "class SignaxSigLayer(keras.layers.Layer):\n",
    "    def __init__(self, depth, stream = False, unroll = None, *args, **kwargs):\n",
    "        super().__init__(*args, **kwargs)\n",
    "        self.depth = depth\n",
    "        self.stream = stream\n",
    "        \n",
    "    def call(self, inputs):\n",
    "        return signax.signature(inputs, depth=self.depth, stream=self.stream)"
   ]
  },
  {
   "cell_type": "markdown",
   "id": "72bdd014-136f-45da-be52-db827089452c",
   "metadata": {},
   "source": [
    "# Example in SigDense case"
   ]
  },
  {
   "cell_type": "code",
   "execution_count": 10,
   "id": "322a1fcb-1a68-4716-93f1-6cadba8739d1",
   "metadata": {},
   "outputs": [],
   "source": [
    "from keras.layers import Layer, Dense, Add, LayerNormalization, Multiply, Dropout\n",
    "from keras.layers import Input, Flatten\n",
    "\n",
    "class AddAndNorm(Layer):\n",
    "    def __init__(self, **kwargs):\n",
    "        super(AddAndNorm, self).__init__(**kwargs)\n",
    "        self.add_layer = Add()\n",
    "        self.norm_layer = LayerNormalization()\n",
    "    \n",
    "    def call(self, inputs):\n",
    "        tmp = self.add_layer(inputs)\n",
    "        tmp = self.norm_layer(tmp)\n",
    "        return tmp\n",
    "\n",
    "    def compute_output_shape(self, input_shape):\n",
    "        return input_shape[0]  # Assuming all input shapes are the same\n",
    "\n",
    "class Gate(Layer):\n",
    "    def __init__(self, hidden_layer_size = None, **kwargs):\n",
    "        super(Gate, self).__init__(**kwargs)\n",
    "        self.hidden_layer_size = hidden_layer_size\n",
    "\n",
    "    def build(self, input_shape):\n",
    "        if self.hidden_layer_size is None:\n",
    "            self.hidden_layer_size = input_shape[-1]\n",
    "        self.dense_layer = Dense(self.hidden_layer_size)\n",
    "        self.gated_layer = Dense(self.hidden_layer_size, activation='sigmoid')\n",
    "        super(Gate, self).build(input_shape)\n",
    "\n",
    "    def call(self, inputs):\n",
    "        dense_output = self.dense_layer(inputs)\n",
    "        gated_output = self.gated_layer(inputs)\n",
    "        return Multiply()([dense_output, gated_output])\n",
    "\n",
    "    def compute_output_shape(self, input_shape):\n",
    "        return input_shape[:-1] + (self.hidden_layer_size,)\n",
    "\n",
    "class GRN(Layer):\n",
    "    def __init__(self, hidden_layer_size, output_size=None, activation = None, dropout = 0.1, **kwargs):\n",
    "        super(GRN, self).__init__(**kwargs)\n",
    "        self.hidden_layer_size = hidden_layer_size\n",
    "        self.output_size = output_size\n",
    "        self.activation = keras.activations.get(activation) if activation is not None else None\n",
    "        self.dropout = Dropout(dropout)\n",
    "        self.dropout_value = dropout\n",
    "\n",
    "    def build(self, input_shape):\n",
    "        if self.output_size is None:\n",
    "            self.output_size = self.hidden_layer_size\n",
    "        self.skip_layer = Dense(self.output_size)\n",
    "        \n",
    "        self.hidden_layer_1 = Dense(self.hidden_layer_size, activation='elu')\n",
    "        self.hidden_layer_2 = Dense(self.hidden_layer_size)\n",
    "        self.gate_layer = Gate(self.output_size)\n",
    "        self.add_and_norm_layer = AddAndNorm()\n",
    "        super(GRN, self).build(input_shape)\n",
    "\n",
    "    def call(self, inputs):\n",
    "        if self.skip_layer is None:\n",
    "            skip = inputs\n",
    "        else:\n",
    "            skip = self.skip_layer(inputs)\n",
    "        \n",
    "        hidden = self.hidden_layer_1(inputs)\n",
    "        hidden = self.hidden_layer_2(hidden)\n",
    "        hidden = self.dropout(hidden)\n",
    "        gating_output = self.gate_layer(hidden)\n",
    "        output = self.add_and_norm_layer([skip, gating_output])\n",
    "        if self.activation is not None:\n",
    "            output = self.activation(output)\n",
    "        return output\n",
    "\n",
    "    def compute_output_shape(self, input_shape):\n",
    "        return input_shape[:-1] + (self.output_size,)\n",
    "\n",
    "class SigDense(Layer):\n",
    "    def __init__(self, unit, sig_level, siglayer_class, dropout = 0., **kwargs):\n",
    "        super().__init__(**kwargs)\n",
    "        self.unit = unit\n",
    "        self.sig_level = sig_level\n",
    "        self.sig_layer = siglayer_class(self.sig_level)\n",
    "        self.dense_layer = Dense(unit)\n",
    "        self.sig_to_weight = GRN(unit, activation = 'softmax', dropout = dropout)\n",
    "        self.dropout = Dropout(dropout)\n",
    "\n",
    "    def build(self, input_shape):\n",
    "        _, seq_length, n_features = input_shape\n",
    "        name = self.name\n",
    "        self.time_weigthing_kernel = self.add_weight(\n",
    "            shape=(seq_length, 1),\n",
    "            name=f\"{name}_time_weigthing_kernel\",\n",
    "        )\n",
    "        super().build(input_shape)\n",
    "        \n",
    "    def call(self, inputs):\n",
    "        inputs = self.time_weigthing_kernel * inputs\n",
    "        sig = self.sig_layer(inputs)\n",
    "        weights = self.sig_to_weight(sig)\n",
    "        dense_out = self.dense_layer(inputs)\n",
    "        dense_out = self.dropout(dense_out)\n",
    "        weights = keras.ops.expand_dims(weights, axis=1)\n",
    "        return dense_out * weights\n",
    "\n",
    "    def compute_output_shape(self, input_shape):\n",
    "        return (input_shape[0], input_shape[1], self.unit)\n"
   ]
  },
  {
   "cell_type": "markdown",
   "id": "72fb56bf-7433-47f2-ad6f-3828a58c215e",
   "metadata": {},
   "source": [
    "## Runed with Jax Backend for Keras"
   ]
  },
  {
   "cell_type": "code",
   "execution_count": 113,
   "id": "9e77f6f3-d48c-40aa-b2a4-a6db1432bab6",
   "metadata": {
    "scrolled": true
   },
   "outputs": [
    {
     "data": {
      "text/html": [
       "<pre style=\"white-space:pre;overflow-x:auto;line-height:normal;font-family:Menlo,'DejaVu Sans Mono',consolas,'Courier New',monospace\"><span style=\"font-weight: bold\">Model: \"sequential_21\"</span>\n",
       "</pre>\n"
      ],
      "text/plain": [
       "\u001b[1mModel: \"sequential_21\"\u001b[0m\n"
      ]
     },
     "metadata": {},
     "output_type": "display_data"
    },
    {
     "data": {
      "text/html": [
       "<pre style=\"white-space:pre;overflow-x:auto;line-height:normal;font-family:Menlo,'DejaVu Sans Mono',consolas,'Courier New',monospace\">┏━━━━━━━━━━━━━━━━━━━━━━━━━━━━━━━━━┳━━━━━━━━━━━━━━━━━━━━━━━━┳━━━━━━━━━━━━━━━┓\n",
       "┃<span style=\"font-weight: bold\"> Layer (type)                    </span>┃<span style=\"font-weight: bold\"> Output Shape           </span>┃<span style=\"font-weight: bold\">       Param # </span>┃\n",
       "┡━━━━━━━━━━━━━━━━━━━━━━━━━━━━━━━━━╇━━━━━━━━━━━━━━━━━━━━━━━━╇━━━━━━━━━━━━━━━┩\n",
       "│ dense_169 (<span style=\"color: #0087ff; text-decoration-color: #0087ff\">Dense</span>)               │ (<span style=\"color: #00d7ff; text-decoration-color: #00d7ff\">None</span>, <span style=\"color: #00af00; text-decoration-color: #00af00\">500</span>, <span style=\"color: #00af00; text-decoration-color: #00af00\">7</span>)         │            <span style=\"color: #00af00; text-decoration-color: #00af00\">77</span> │\n",
       "├─────────────────────────────────┼────────────────────────┼───────────────┤\n",
       "│ sig_dense_21 (<span style=\"color: #0087ff; text-decoration-color: #0087ff\">SigDense</span>)         │ (<span style=\"color: #00d7ff; text-decoration-color: #00d7ff\">None</span>, <span style=\"color: #00af00; text-decoration-color: #00af00\">500</span>, <span style=\"color: #00af00; text-decoration-color: #00af00\">10</span>)        │           <span style=\"color: #00af00; text-decoration-color: #00af00\">500</span> │\n",
       "├─────────────────────────────────┼────────────────────────┼───────────────┤\n",
       "│ flatten_21 (<span style=\"color: #0087ff; text-decoration-color: #0087ff\">Flatten</span>)            │ (<span style=\"color: #00d7ff; text-decoration-color: #00d7ff\">None</span>, <span style=\"color: #00af00; text-decoration-color: #00af00\">5000</span>)           │             <span style=\"color: #00af00; text-decoration-color: #00af00\">0</span> │\n",
       "├─────────────────────────────────┼────────────────────────┼───────────────┤\n",
       "│ dense_171 (<span style=\"color: #0087ff; text-decoration-color: #0087ff\">Dense</span>)               │ (<span style=\"color: #00d7ff; text-decoration-color: #00d7ff\">None</span>, <span style=\"color: #00af00; text-decoration-color: #00af00\">10</span>)             │        <span style=\"color: #00af00; text-decoration-color: #00af00\">50,010</span> │\n",
       "├─────────────────────────────────┼────────────────────────┼───────────────┤\n",
       "│ dense_172 (<span style=\"color: #0087ff; text-decoration-color: #0087ff\">Dense</span>)               │ (<span style=\"color: #00d7ff; text-decoration-color: #00d7ff\">None</span>, <span style=\"color: #00af00; text-decoration-color: #00af00\">10</span>)             │           <span style=\"color: #00af00; text-decoration-color: #00af00\">110</span> │\n",
       "└─────────────────────────────────┴────────────────────────┴───────────────┘\n",
       "</pre>\n"
      ],
      "text/plain": [
       "┏━━━━━━━━━━━━━━━━━━━━━━━━━━━━━━━━━┳━━━━━━━━━━━━━━━━━━━━━━━━┳━━━━━━━━━━━━━━━┓\n",
       "┃\u001b[1m \u001b[0m\u001b[1mLayer (type)                   \u001b[0m\u001b[1m \u001b[0m┃\u001b[1m \u001b[0m\u001b[1mOutput Shape          \u001b[0m\u001b[1m \u001b[0m┃\u001b[1m \u001b[0m\u001b[1m      Param #\u001b[0m\u001b[1m \u001b[0m┃\n",
       "┡━━━━━━━━━━━━━━━━━━━━━━━━━━━━━━━━━╇━━━━━━━━━━━━━━━━━━━━━━━━╇━━━━━━━━━━━━━━━┩\n",
       "│ dense_169 (\u001b[38;5;33mDense\u001b[0m)               │ (\u001b[38;5;45mNone\u001b[0m, \u001b[38;5;34m500\u001b[0m, \u001b[38;5;34m7\u001b[0m)         │            \u001b[38;5;34m77\u001b[0m │\n",
       "├─────────────────────────────────┼────────────────────────┼───────────────┤\n",
       "│ sig_dense_21 (\u001b[38;5;33mSigDense\u001b[0m)         │ (\u001b[38;5;45mNone\u001b[0m, \u001b[38;5;34m500\u001b[0m, \u001b[38;5;34m10\u001b[0m)        │           \u001b[38;5;34m500\u001b[0m │\n",
       "├─────────────────────────────────┼────────────────────────┼───────────────┤\n",
       "│ flatten_21 (\u001b[38;5;33mFlatten\u001b[0m)            │ (\u001b[38;5;45mNone\u001b[0m, \u001b[38;5;34m5000\u001b[0m)           │             \u001b[38;5;34m0\u001b[0m │\n",
       "├─────────────────────────────────┼────────────────────────┼───────────────┤\n",
       "│ dense_171 (\u001b[38;5;33mDense\u001b[0m)               │ (\u001b[38;5;45mNone\u001b[0m, \u001b[38;5;34m10\u001b[0m)             │        \u001b[38;5;34m50,010\u001b[0m │\n",
       "├─────────────────────────────────┼────────────────────────┼───────────────┤\n",
       "│ dense_172 (\u001b[38;5;33mDense\u001b[0m)               │ (\u001b[38;5;45mNone\u001b[0m, \u001b[38;5;34m10\u001b[0m)             │           \u001b[38;5;34m110\u001b[0m │\n",
       "└─────────────────────────────────┴────────────────────────┴───────────────┘\n"
      ]
     },
     "metadata": {},
     "output_type": "display_data"
    },
    {
     "data": {
      "text/html": [
       "<pre style=\"white-space:pre;overflow-x:auto;line-height:normal;font-family:Menlo,'DejaVu Sans Mono',consolas,'Courier New',monospace\"><span style=\"font-weight: bold\"> Total params: </span><span style=\"color: #00af00; text-decoration-color: #00af00\">50,697</span> (198.04 KB)\n",
       "</pre>\n"
      ],
      "text/plain": [
       "\u001b[1m Total params: \u001b[0m\u001b[38;5;34m50,697\u001b[0m (198.04 KB)\n"
      ]
     },
     "metadata": {},
     "output_type": "display_data"
    },
    {
     "data": {
      "text/html": [
       "<pre style=\"white-space:pre;overflow-x:auto;line-height:normal;font-family:Menlo,'DejaVu Sans Mono',consolas,'Courier New',monospace\"><span style=\"font-weight: bold\"> Trainable params: </span><span style=\"color: #00af00; text-decoration-color: #00af00\">50,697</span> (198.04 KB)\n",
       "</pre>\n"
      ],
      "text/plain": [
       "\u001b[1m Trainable params: \u001b[0m\u001b[38;5;34m50,697\u001b[0m (198.04 KB)\n"
      ]
     },
     "metadata": {},
     "output_type": "display_data"
    },
    {
     "data": {
      "text/html": [
       "<pre style=\"white-space:pre;overflow-x:auto;line-height:normal;font-family:Menlo,'DejaVu Sans Mono',consolas,'Courier New',monospace\"><span style=\"font-weight: bold\"> Non-trainable params: </span><span style=\"color: #00af00; text-decoration-color: #00af00\">0</span> (0.00 B)\n",
       "</pre>\n"
      ],
      "text/plain": [
       "\u001b[1m Non-trainable params: \u001b[0m\u001b[38;5;34m0\u001b[0m (0.00 B)\n"
      ]
     },
     "metadata": {},
     "output_type": "display_data"
    },
    {
     "name": "stdout",
     "output_type": "stream",
     "text": [
      "Epoch 1/10\n",
      "\u001b[1m100/100\u001b[0m \u001b[32m━━━━━━━━━━━━━━━━━━━━\u001b[0m\u001b[37m\u001b[0m \u001b[1m7s\u001b[0m 49ms/step - loss: 1.0059\n",
      "Epoch 2/10\n",
      "\u001b[1m100/100\u001b[0m \u001b[32m━━━━━━━━━━━━━━━━━━━━\u001b[0m\u001b[37m\u001b[0m \u001b[1m3s\u001b[0m 14ms/step - loss: 1.0017\n",
      "Epoch 3/10\n",
      "\u001b[1m100/100\u001b[0m \u001b[32m━━━━━━━━━━━━━━━━━━━━\u001b[0m\u001b[37m\u001b[0m \u001b[1m1s\u001b[0m 13ms/step - loss: 0.9715\n",
      "Epoch 4/10\n",
      "\u001b[1m100/100\u001b[0m \u001b[32m━━━━━━━━━━━━━━━━━━━━\u001b[0m\u001b[37m\u001b[0m \u001b[1m1s\u001b[0m 13ms/step - loss: 0.9217\n",
      "Epoch 5/10\n",
      "\u001b[1m100/100\u001b[0m \u001b[32m━━━━━━━━━━━━━━━━━━━━\u001b[0m\u001b[37m\u001b[0m \u001b[1m1s\u001b[0m 13ms/step - loss: 0.8639\n",
      "Epoch 6/10\n",
      "\u001b[1m100/100\u001b[0m \u001b[32m━━━━━━━━━━━━━━━━━━━━\u001b[0m\u001b[37m\u001b[0m \u001b[1m1s\u001b[0m 13ms/step - loss: 0.8205\n",
      "Epoch 7/10\n",
      "\u001b[1m100/100\u001b[0m \u001b[32m━━━━━━━━━━━━━━━━━━━━\u001b[0m\u001b[37m\u001b[0m \u001b[1m1s\u001b[0m 13ms/step - loss: 0.7781\n",
      "Epoch 8/10\n",
      "\u001b[1m100/100\u001b[0m \u001b[32m━━━━━━━━━━━━━━━━━━━━\u001b[0m\u001b[37m\u001b[0m \u001b[1m1s\u001b[0m 13ms/step - loss: 0.7429\n",
      "Epoch 9/10\n",
      "\u001b[1m100/100\u001b[0m \u001b[32m━━━━━━━━━━━━━━━━━━━━\u001b[0m\u001b[37m\u001b[0m \u001b[1m1s\u001b[0m 13ms/step - loss: 0.7163\n",
      "Epoch 10/10\n",
      "\u001b[1m100/100\u001b[0m \u001b[32m━━━━━━━━━━━━━━━━━━━━\u001b[0m\u001b[37m\u001b[0m \u001b[1m1s\u001b[0m 13ms/step - loss: 0.6943\n",
      "Time with Pure Keras Signature 22.17927050590515\n"
     ]
    },
    {
     "data": {
      "text/html": [
       "<pre style=\"white-space:pre;overflow-x:auto;line-height:normal;font-family:Menlo,'DejaVu Sans Mono',consolas,'Courier New',monospace\"><span style=\"font-weight: bold\">Model: \"sequential_22\"</span>\n",
       "</pre>\n"
      ],
      "text/plain": [
       "\u001b[1mModel: \"sequential_22\"\u001b[0m\n"
      ]
     },
     "metadata": {},
     "output_type": "display_data"
    },
    {
     "data": {
      "text/html": [
       "<pre style=\"white-space:pre;overflow-x:auto;line-height:normal;font-family:Menlo,'DejaVu Sans Mono',consolas,'Courier New',monospace\">┏━━━━━━━━━━━━━━━━━━━━━━━━━━━━━━━━━┳━━━━━━━━━━━━━━━━━━━━━━━━┳━━━━━━━━━━━━━━━┓\n",
       "┃<span style=\"font-weight: bold\"> Layer (type)                    </span>┃<span style=\"font-weight: bold\"> Output Shape           </span>┃<span style=\"font-weight: bold\">       Param # </span>┃\n",
       "┡━━━━━━━━━━━━━━━━━━━━━━━━━━━━━━━━━╇━━━━━━━━━━━━━━━━━━━━━━━━╇━━━━━━━━━━━━━━━┩\n",
       "│ dense_178 (<span style=\"color: #0087ff; text-decoration-color: #0087ff\">Dense</span>)               │ (<span style=\"color: #00d7ff; text-decoration-color: #00d7ff\">None</span>, <span style=\"color: #00af00; text-decoration-color: #00af00\">500</span>, <span style=\"color: #00af00; text-decoration-color: #00af00\">6</span>)         │            <span style=\"color: #00af00; text-decoration-color: #00af00\">66</span> │\n",
       "├─────────────────────────────────┼────────────────────────┼───────────────┤\n",
       "│ sig_dense_22 (<span style=\"color: #0087ff; text-decoration-color: #0087ff\">SigDense</span>)         │ (<span style=\"color: #00d7ff; text-decoration-color: #00d7ff\">None</span>, <span style=\"color: #00af00; text-decoration-color: #00af00\">500</span>, <span style=\"color: #00af00; text-decoration-color: #00af00\">10</span>)        │           <span style=\"color: #00af00; text-decoration-color: #00af00\">500</span> │\n",
       "├─────────────────────────────────┼────────────────────────┼───────────────┤\n",
       "│ flatten_22 (<span style=\"color: #0087ff; text-decoration-color: #0087ff\">Flatten</span>)            │ (<span style=\"color: #00d7ff; text-decoration-color: #00d7ff\">None</span>, <span style=\"color: #00af00; text-decoration-color: #00af00\">5000</span>)           │             <span style=\"color: #00af00; text-decoration-color: #00af00\">0</span> │\n",
       "├─────────────────────────────────┼────────────────────────┼───────────────┤\n",
       "│ dense_180 (<span style=\"color: #0087ff; text-decoration-color: #0087ff\">Dense</span>)               │ (<span style=\"color: #00d7ff; text-decoration-color: #00d7ff\">None</span>, <span style=\"color: #00af00; text-decoration-color: #00af00\">10</span>)             │        <span style=\"color: #00af00; text-decoration-color: #00af00\">50,010</span> │\n",
       "├─────────────────────────────────┼────────────────────────┼───────────────┤\n",
       "│ dense_181 (<span style=\"color: #0087ff; text-decoration-color: #0087ff\">Dense</span>)               │ (<span style=\"color: #00d7ff; text-decoration-color: #00d7ff\">None</span>, <span style=\"color: #00af00; text-decoration-color: #00af00\">10</span>)             │           <span style=\"color: #00af00; text-decoration-color: #00af00\">110</span> │\n",
       "└─────────────────────────────────┴────────────────────────┴───────────────┘\n",
       "</pre>\n"
      ],
      "text/plain": [
       "┏━━━━━━━━━━━━━━━━━━━━━━━━━━━━━━━━━┳━━━━━━━━━━━━━━━━━━━━━━━━┳━━━━━━━━━━━━━━━┓\n",
       "┃\u001b[1m \u001b[0m\u001b[1mLayer (type)                   \u001b[0m\u001b[1m \u001b[0m┃\u001b[1m \u001b[0m\u001b[1mOutput Shape          \u001b[0m\u001b[1m \u001b[0m┃\u001b[1m \u001b[0m\u001b[1m      Param #\u001b[0m\u001b[1m \u001b[0m┃\n",
       "┡━━━━━━━━━━━━━━━━━━━━━━━━━━━━━━━━━╇━━━━━━━━━━━━━━━━━━━━━━━━╇━━━━━━━━━━━━━━━┩\n",
       "│ dense_178 (\u001b[38;5;33mDense\u001b[0m)               │ (\u001b[38;5;45mNone\u001b[0m, \u001b[38;5;34m500\u001b[0m, \u001b[38;5;34m6\u001b[0m)         │            \u001b[38;5;34m66\u001b[0m │\n",
       "├─────────────────────────────────┼────────────────────────┼───────────────┤\n",
       "│ sig_dense_22 (\u001b[38;5;33mSigDense\u001b[0m)         │ (\u001b[38;5;45mNone\u001b[0m, \u001b[38;5;34m500\u001b[0m, \u001b[38;5;34m10\u001b[0m)        │           \u001b[38;5;34m500\u001b[0m │\n",
       "├─────────────────────────────────┼────────────────────────┼───────────────┤\n",
       "│ flatten_22 (\u001b[38;5;33mFlatten\u001b[0m)            │ (\u001b[38;5;45mNone\u001b[0m, \u001b[38;5;34m5000\u001b[0m)           │             \u001b[38;5;34m0\u001b[0m │\n",
       "├─────────────────────────────────┼────────────────────────┼───────────────┤\n",
       "│ dense_180 (\u001b[38;5;33mDense\u001b[0m)               │ (\u001b[38;5;45mNone\u001b[0m, \u001b[38;5;34m10\u001b[0m)             │        \u001b[38;5;34m50,010\u001b[0m │\n",
       "├─────────────────────────────────┼────────────────────────┼───────────────┤\n",
       "│ dense_181 (\u001b[38;5;33mDense\u001b[0m)               │ (\u001b[38;5;45mNone\u001b[0m, \u001b[38;5;34m10\u001b[0m)             │           \u001b[38;5;34m110\u001b[0m │\n",
       "└─────────────────────────────────┴────────────────────────┴───────────────┘\n"
      ]
     },
     "metadata": {},
     "output_type": "display_data"
    },
    {
     "data": {
      "text/html": [
       "<pre style=\"white-space:pre;overflow-x:auto;line-height:normal;font-family:Menlo,'DejaVu Sans Mono',consolas,'Courier New',monospace\"><span style=\"font-weight: bold\"> Total params: </span><span style=\"color: #00af00; text-decoration-color: #00af00\">50,686</span> (197.99 KB)\n",
       "</pre>\n"
      ],
      "text/plain": [
       "\u001b[1m Total params: \u001b[0m\u001b[38;5;34m50,686\u001b[0m (197.99 KB)\n"
      ]
     },
     "metadata": {},
     "output_type": "display_data"
    },
    {
     "data": {
      "text/html": [
       "<pre style=\"white-space:pre;overflow-x:auto;line-height:normal;font-family:Menlo,'DejaVu Sans Mono',consolas,'Courier New',monospace\"><span style=\"font-weight: bold\"> Trainable params: </span><span style=\"color: #00af00; text-decoration-color: #00af00\">50,686</span> (197.99 KB)\n",
       "</pre>\n"
      ],
      "text/plain": [
       "\u001b[1m Trainable params: \u001b[0m\u001b[38;5;34m50,686\u001b[0m (197.99 KB)\n"
      ]
     },
     "metadata": {},
     "output_type": "display_data"
    },
    {
     "data": {
      "text/html": [
       "<pre style=\"white-space:pre;overflow-x:auto;line-height:normal;font-family:Menlo,'DejaVu Sans Mono',consolas,'Courier New',monospace\"><span style=\"font-weight: bold\"> Non-trainable params: </span><span style=\"color: #00af00; text-decoration-color: #00af00\">0</span> (0.00 B)\n",
       "</pre>\n"
      ],
      "text/plain": [
       "\u001b[1m Non-trainable params: \u001b[0m\u001b[38;5;34m0\u001b[0m (0.00 B)\n"
      ]
     },
     "metadata": {},
     "output_type": "display_data"
    },
    {
     "name": "stdout",
     "output_type": "stream",
     "text": [
      "Epoch 1/10\n",
      "\u001b[1m100/100\u001b[0m \u001b[32m━━━━━━━━━━━━━━━━━━━━\u001b[0m\u001b[37m\u001b[0m \u001b[1m7s\u001b[0m 48ms/step - loss: 0.9997\n",
      "Epoch 2/10\n",
      "\u001b[1m100/100\u001b[0m \u001b[32m━━━━━━━━━━━━━━━━━━━━\u001b[0m\u001b[37m\u001b[0m \u001b[1m3s\u001b[0m 13ms/step - loss: 0.9929\n",
      "Epoch 3/10\n",
      "\u001b[1m100/100\u001b[0m \u001b[32m━━━━━━━━━━━━━━━━━━━━\u001b[0m\u001b[37m\u001b[0m \u001b[1m1s\u001b[0m 13ms/step - loss: 0.9720\n",
      "Epoch 4/10\n",
      "\u001b[1m100/100\u001b[0m \u001b[32m━━━━━━━━━━━━━━━━━━━━\u001b[0m\u001b[37m\u001b[0m \u001b[1m1s\u001b[0m 13ms/step - loss: 0.9189\n",
      "Epoch 5/10\n",
      "\u001b[1m100/100\u001b[0m \u001b[32m━━━━━━━━━━━━━━━━━━━━\u001b[0m\u001b[37m\u001b[0m \u001b[1m1s\u001b[0m 13ms/step - loss: 0.8615\n",
      "Epoch 6/10\n",
      "\u001b[1m100/100\u001b[0m \u001b[32m━━━━━━━━━━━━━━━━━━━━\u001b[0m\u001b[37m\u001b[0m \u001b[1m1s\u001b[0m 13ms/step - loss: 0.8110\n",
      "Epoch 7/10\n",
      "\u001b[1m100/100\u001b[0m \u001b[32m━━━━━━━━━━━━━━━━━━━━\u001b[0m\u001b[37m\u001b[0m \u001b[1m1s\u001b[0m 13ms/step - loss: 0.7772\n",
      "Epoch 8/10\n",
      "\u001b[1m100/100\u001b[0m \u001b[32m━━━━━━━━━━━━━━━━━━━━\u001b[0m\u001b[37m\u001b[0m \u001b[1m1s\u001b[0m 13ms/step - loss: 0.7374\n",
      "Epoch 9/10\n",
      "\u001b[1m100/100\u001b[0m \u001b[32m━━━━━━━━━━━━━━━━━━━━\u001b[0m\u001b[37m\u001b[0m \u001b[1m1s\u001b[0m 13ms/step - loss: 0.7186\n",
      "Epoch 10/10\n",
      "\u001b[1m100/100\u001b[0m \u001b[32m━━━━━━━━━━━━━━━━━━━━\u001b[0m\u001b[37m\u001b[0m \u001b[1m1s\u001b[0m 13ms/step - loss: 0.6977\n",
      "Time with Pure Jax Signature from Signax 21.143450260162354\n"
     ]
    }
   ],
   "source": [
    "BATCH_SIZE = 128\n",
    "num_sample = BATCH_SIZE*100 - 35  #In order to have an not exactly equal to Batch size total number of sample \n",
    "seq_len = 500\n",
    "n_feature = 10\n",
    "n_ahead = 10\n",
    "depth = 3\n",
    "X = np.random.randn(num_sample, seq_len, n_feature)\n",
    "y = np.random.randn(num_sample, n_ahead)\n",
    "\n",
    "t1 = time.time()\n",
    "model = keras.Sequential([\n",
    "    Input(shape=X.shape[1:]),\n",
    "    Dense(7),\n",
    "    SigDense(10, depth, SigLayer),\n",
    "    Flatten(),\n",
    "    Dense(10, 'relu'),\n",
    "    Dense(n_ahead),\n",
    "])\n",
    "model.summary()\n",
    "model.compile('adam', 'mse', jit_compile=True)\n",
    "model.fit(X, y, batch_size=BATCH_SIZE, epochs=10, verbose=True)\n",
    "print(\"Time with Pure Keras Signature\", time.time() - t1)\n",
    "del model\n",
    "\n",
    "t1 = time.time()\n",
    "model = keras.Sequential([\n",
    "    Input(shape=X.shape[1:]),\n",
    "    Dense(6),\n",
    "    SigDense(10, depth, SignaxSigLayer),\n",
    "    Flatten(),\n",
    "    Dense(10, 'relu'),\n",
    "    Dense(n_ahead),\n",
    "])\n",
    "model.summary()\n",
    "model.compile('adam', 'mse', jit_compile=True)\n",
    "model.fit(X, y, batch_size=BATCH_SIZE, epochs=10, verbose=True)\n",
    "print(\"Time with Pure Jax Signature from Signax\", time.time() - t1)\n",
    "del model"
   ]
  },
  {
   "cell_type": "markdown",
   "id": "8dac6d24-2501-4d09-a194-fb68a632ef41",
   "metadata": {},
   "source": [
    "## Conclusion:\n",
    "While signax signature is more efficient alone for forward computation, inside keras backend the direct use is not distinguishable from our proposed keras signature \n",
    "\n",
    "iisignature_tensorflow_2 is obviously uncompatible"
   ]
  },
  {
   "cell_type": "markdown",
   "id": "76556b26-4680-4fbe-99d6-0ca7a0fe30bb",
   "metadata": {},
   "source": [
    "## Runed with Tensorflow Backend "
   ]
  },
  {
   "cell_type": "code",
   "execution_count": 51,
   "id": "40f34283-05e6-4e2f-9f48-8cd7d04eeff3",
   "metadata": {},
   "outputs": [
    {
     "data": {
      "text/html": [
       "<pre style=\"white-space:pre;overflow-x:auto;line-height:normal;font-family:Menlo,'DejaVu Sans Mono',consolas,'Courier New',monospace\"><span style=\"font-weight: bold\">Model: \"sequential_20\"</span>\n",
       "</pre>\n"
      ],
      "text/plain": [
       "\u001b[1mModel: \"sequential_20\"\u001b[0m\n"
      ]
     },
     "metadata": {},
     "output_type": "display_data"
    },
    {
     "data": {
      "text/html": [
       "<pre style=\"white-space:pre;overflow-x:auto;line-height:normal;font-family:Menlo,'DejaVu Sans Mono',consolas,'Courier New',monospace\">┏━━━━━━━━━━━━━━━━━━━━━━━━━━━━━━━━━┳━━━━━━━━━━━━━━━━━━━━━━━━┳━━━━━━━━━━━━━━━┓\n",
       "┃<span style=\"font-weight: bold\"> Layer (type)                    </span>┃<span style=\"font-weight: bold\"> Output Shape           </span>┃<span style=\"font-weight: bold\">       Param # </span>┃\n",
       "┡━━━━━━━━━━━━━━━━━━━━━━━━━━━━━━━━━╇━━━━━━━━━━━━━━━━━━━━━━━━╇━━━━━━━━━━━━━━━┩\n",
       "│ dense_136 (<span style=\"color: #0087ff; text-decoration-color: #0087ff\">Dense</span>)               │ (<span style=\"color: #00d7ff; text-decoration-color: #00d7ff\">None</span>, <span style=\"color: #00af00; text-decoration-color: #00af00\">50</span>, <span style=\"color: #00af00; text-decoration-color: #00af00\">7</span>)          │            <span style=\"color: #00af00; text-decoration-color: #00af00\">77</span> │\n",
       "├─────────────────────────────────┼────────────────────────┼───────────────┤\n",
       "│ sig_dense_20 (<span style=\"color: #0087ff; text-decoration-color: #0087ff\">SigDense</span>)         │ (<span style=\"color: #00d7ff; text-decoration-color: #00d7ff\">None</span>, <span style=\"color: #00af00; text-decoration-color: #00af00\">50</span>, <span style=\"color: #00af00; text-decoration-color: #00af00\">10</span>)         │            <span style=\"color: #00af00; text-decoration-color: #00af00\">50</span> │\n",
       "├─────────────────────────────────┼────────────────────────┼───────────────┤\n",
       "│ flatten_20 (<span style=\"color: #0087ff; text-decoration-color: #0087ff\">Flatten</span>)            │ (<span style=\"color: #00d7ff; text-decoration-color: #00d7ff\">None</span>, <span style=\"color: #00af00; text-decoration-color: #00af00\">500</span>)            │             <span style=\"color: #00af00; text-decoration-color: #00af00\">0</span> │\n",
       "├─────────────────────────────────┼────────────────────────┼───────────────┤\n",
       "│ dense_138 (<span style=\"color: #0087ff; text-decoration-color: #0087ff\">Dense</span>)               │ (<span style=\"color: #00d7ff; text-decoration-color: #00d7ff\">None</span>, <span style=\"color: #00af00; text-decoration-color: #00af00\">10</span>)             │         <span style=\"color: #00af00; text-decoration-color: #00af00\">5,010</span> │\n",
       "├─────────────────────────────────┼────────────────────────┼───────────────┤\n",
       "│ dense_139 (<span style=\"color: #0087ff; text-decoration-color: #0087ff\">Dense</span>)               │ (<span style=\"color: #00d7ff; text-decoration-color: #00d7ff\">None</span>, <span style=\"color: #00af00; text-decoration-color: #00af00\">10</span>)             │           <span style=\"color: #00af00; text-decoration-color: #00af00\">110</span> │\n",
       "└─────────────────────────────────┴────────────────────────┴───────────────┘\n",
       "</pre>\n"
      ],
      "text/plain": [
       "┏━━━━━━━━━━━━━━━━━━━━━━━━━━━━━━━━━┳━━━━━━━━━━━━━━━━━━━━━━━━┳━━━━━━━━━━━━━━━┓\n",
       "┃\u001b[1m \u001b[0m\u001b[1mLayer (type)                   \u001b[0m\u001b[1m \u001b[0m┃\u001b[1m \u001b[0m\u001b[1mOutput Shape          \u001b[0m\u001b[1m \u001b[0m┃\u001b[1m \u001b[0m\u001b[1m      Param #\u001b[0m\u001b[1m \u001b[0m┃\n",
       "┡━━━━━━━━━━━━━━━━━━━━━━━━━━━━━━━━━╇━━━━━━━━━━━━━━━━━━━━━━━━╇━━━━━━━━━━━━━━━┩\n",
       "│ dense_136 (\u001b[38;5;33mDense\u001b[0m)               │ (\u001b[38;5;45mNone\u001b[0m, \u001b[38;5;34m50\u001b[0m, \u001b[38;5;34m7\u001b[0m)          │            \u001b[38;5;34m77\u001b[0m │\n",
       "├─────────────────────────────────┼────────────────────────┼───────────────┤\n",
       "│ sig_dense_20 (\u001b[38;5;33mSigDense\u001b[0m)         │ (\u001b[38;5;45mNone\u001b[0m, \u001b[38;5;34m50\u001b[0m, \u001b[38;5;34m10\u001b[0m)         │            \u001b[38;5;34m50\u001b[0m │\n",
       "├─────────────────────────────────┼────────────────────────┼───────────────┤\n",
       "│ flatten_20 (\u001b[38;5;33mFlatten\u001b[0m)            │ (\u001b[38;5;45mNone\u001b[0m, \u001b[38;5;34m500\u001b[0m)            │             \u001b[38;5;34m0\u001b[0m │\n",
       "├─────────────────────────────────┼────────────────────────┼───────────────┤\n",
       "│ dense_138 (\u001b[38;5;33mDense\u001b[0m)               │ (\u001b[38;5;45mNone\u001b[0m, \u001b[38;5;34m10\u001b[0m)             │         \u001b[38;5;34m5,010\u001b[0m │\n",
       "├─────────────────────────────────┼────────────────────────┼───────────────┤\n",
       "│ dense_139 (\u001b[38;5;33mDense\u001b[0m)               │ (\u001b[38;5;45mNone\u001b[0m, \u001b[38;5;34m10\u001b[0m)             │           \u001b[38;5;34m110\u001b[0m │\n",
       "└─────────────────────────────────┴────────────────────────┴───────────────┘\n"
      ]
     },
     "metadata": {},
     "output_type": "display_data"
    },
    {
     "data": {
      "text/html": [
       "<pre style=\"white-space:pre;overflow-x:auto;line-height:normal;font-family:Menlo,'DejaVu Sans Mono',consolas,'Courier New',monospace\"><span style=\"font-weight: bold\"> Total params: </span><span style=\"color: #00af00; text-decoration-color: #00af00\">5,247</span> (20.50 KB)\n",
       "</pre>\n"
      ],
      "text/plain": [
       "\u001b[1m Total params: \u001b[0m\u001b[38;5;34m5,247\u001b[0m (20.50 KB)\n"
      ]
     },
     "metadata": {},
     "output_type": "display_data"
    },
    {
     "data": {
      "text/html": [
       "<pre style=\"white-space:pre;overflow-x:auto;line-height:normal;font-family:Menlo,'DejaVu Sans Mono',consolas,'Courier New',monospace\"><span style=\"font-weight: bold\"> Trainable params: </span><span style=\"color: #00af00; text-decoration-color: #00af00\">5,247</span> (20.50 KB)\n",
       "</pre>\n"
      ],
      "text/plain": [
       "\u001b[1m Trainable params: \u001b[0m\u001b[38;5;34m5,247\u001b[0m (20.50 KB)\n"
      ]
     },
     "metadata": {},
     "output_type": "display_data"
    },
    {
     "data": {
      "text/html": [
       "<pre style=\"white-space:pre;overflow-x:auto;line-height:normal;font-family:Menlo,'DejaVu Sans Mono',consolas,'Courier New',monospace\"><span style=\"font-weight: bold\"> Non-trainable params: </span><span style=\"color: #00af00; text-decoration-color: #00af00\">0</span> (0.00 B)\n",
       "</pre>\n"
      ],
      "text/plain": [
       "\u001b[1m Non-trainable params: \u001b[0m\u001b[38;5;34m0\u001b[0m (0.00 B)\n"
      ]
     },
     "metadata": {},
     "output_type": "display_data"
    },
    {
     "name": "stdout",
     "output_type": "stream",
     "text": [
      "Epoch 1/10\n",
      "\u001b[1m100/100\u001b[0m \u001b[32m━━━━━━━━━━━━━━━━━━━━\u001b[0m\u001b[37m\u001b[0m \u001b[1m28s\u001b[0m 24ms/step - loss: 0.9992\n",
      "Epoch 2/10\n",
      "\u001b[1m100/100\u001b[0m \u001b[32m━━━━━━━━━━━━━━━━━━━━\u001b[0m\u001b[37m\u001b[0m \u001b[1m2s\u001b[0m 22ms/step - loss: 0.9987\n",
      "Epoch 3/10\n",
      "\u001b[1m100/100\u001b[0m \u001b[32m━━━━━━━━━━━━━━━━━━━━\u001b[0m\u001b[37m\u001b[0m \u001b[1m2s\u001b[0m 24ms/step - loss: 0.9923\n",
      "Epoch 4/10\n",
      "\u001b[1m100/100\u001b[0m \u001b[32m━━━━━━━━━━━━━━━━━━━━\u001b[0m\u001b[37m\u001b[0m \u001b[1m2s\u001b[0m 24ms/step - loss: 0.9862\n",
      "Epoch 5/10\n",
      "\u001b[1m100/100\u001b[0m \u001b[32m━━━━━━━━━━━━━━━━━━━━\u001b[0m\u001b[37m\u001b[0m \u001b[1m2s\u001b[0m 24ms/step - loss: 0.9922\n",
      "Epoch 6/10\n",
      "\u001b[1m100/100\u001b[0m \u001b[32m━━━━━━━━━━━━━━━━━━━━\u001b[0m\u001b[37m\u001b[0m \u001b[1m2s\u001b[0m 24ms/step - loss: 0.9866\n",
      "Epoch 7/10\n",
      "\u001b[1m100/100\u001b[0m \u001b[32m━━━━━━━━━━━━━━━━━━━━\u001b[0m\u001b[37m\u001b[0m \u001b[1m2s\u001b[0m 24ms/step - loss: 0.9817\n",
      "Epoch 8/10\n",
      "\u001b[1m100/100\u001b[0m \u001b[32m━━━━━━━━━━━━━━━━━━━━\u001b[0m\u001b[37m\u001b[0m \u001b[1m2s\u001b[0m 22ms/step - loss: 0.9772\n",
      "Epoch 9/10\n",
      "\u001b[1m100/100\u001b[0m \u001b[32m━━━━━━━━━━━━━━━━━━━━\u001b[0m\u001b[37m\u001b[0m \u001b[1m2s\u001b[0m 24ms/step - loss: 0.9701\n",
      "Epoch 10/10\n",
      "\u001b[1m100/100\u001b[0m \u001b[32m━━━━━━━━━━━━━━━━━━━━\u001b[0m\u001b[37m\u001b[0m \u001b[1m2s\u001b[0m 24ms/step - loss: 0.9561\n",
      "Time with Pure Keras Signature 49.467477560043335\n"
     ]
    },
    {
     "data": {
      "text/html": [
       "<pre style=\"white-space:pre;overflow-x:auto;line-height:normal;font-family:Menlo,'DejaVu Sans Mono',consolas,'Courier New',monospace\"><span style=\"font-weight: bold\">Model: \"sequential_21\"</span>\n",
       "</pre>\n"
      ],
      "text/plain": [
       "\u001b[1mModel: \"sequential_21\"\u001b[0m\n"
      ]
     },
     "metadata": {},
     "output_type": "display_data"
    },
    {
     "data": {
      "text/html": [
       "<pre style=\"white-space:pre;overflow-x:auto;line-height:normal;font-family:Menlo,'DejaVu Sans Mono',consolas,'Courier New',monospace\">┏━━━━━━━━━━━━━━━━━━━━━━━━━━━━━━━━━┳━━━━━━━━━━━━━━━━━━━━━━━━┳━━━━━━━━━━━━━━━┓\n",
       "┃<span style=\"font-weight: bold\"> Layer (type)                    </span>┃<span style=\"font-weight: bold\"> Output Shape           </span>┃<span style=\"font-weight: bold\">       Param # </span>┃\n",
       "┡━━━━━━━━━━━━━━━━━━━━━━━━━━━━━━━━━╇━━━━━━━━━━━━━━━━━━━━━━━━╇━━━━━━━━━━━━━━━┩\n",
       "│ dense_145 (<span style=\"color: #0087ff; text-decoration-color: #0087ff\">Dense</span>)               │ (<span style=\"color: #00d7ff; text-decoration-color: #00d7ff\">None</span>, <span style=\"color: #00af00; text-decoration-color: #00af00\">50</span>, <span style=\"color: #00af00; text-decoration-color: #00af00\">6</span>)          │            <span style=\"color: #00af00; text-decoration-color: #00af00\">66</span> │\n",
       "├─────────────────────────────────┼────────────────────────┼───────────────┤\n",
       "│ sig_dense_21 (<span style=\"color: #0087ff; text-decoration-color: #0087ff\">SigDense</span>)         │ (<span style=\"color: #00d7ff; text-decoration-color: #00d7ff\">None</span>, <span style=\"color: #00af00; text-decoration-color: #00af00\">50</span>, <span style=\"color: #00af00; text-decoration-color: #00af00\">10</span>)         │            <span style=\"color: #00af00; text-decoration-color: #00af00\">50</span> │\n",
       "├─────────────────────────────────┼────────────────────────┼───────────────┤\n",
       "│ flatten_21 (<span style=\"color: #0087ff; text-decoration-color: #0087ff\">Flatten</span>)            │ (<span style=\"color: #00d7ff; text-decoration-color: #00d7ff\">None</span>, <span style=\"color: #00af00; text-decoration-color: #00af00\">500</span>)            │             <span style=\"color: #00af00; text-decoration-color: #00af00\">0</span> │\n",
       "├─────────────────────────────────┼────────────────────────┼───────────────┤\n",
       "│ dense_147 (<span style=\"color: #0087ff; text-decoration-color: #0087ff\">Dense</span>)               │ (<span style=\"color: #00d7ff; text-decoration-color: #00d7ff\">None</span>, <span style=\"color: #00af00; text-decoration-color: #00af00\">10</span>)             │         <span style=\"color: #00af00; text-decoration-color: #00af00\">5,010</span> │\n",
       "├─────────────────────────────────┼────────────────────────┼───────────────┤\n",
       "│ dense_148 (<span style=\"color: #0087ff; text-decoration-color: #0087ff\">Dense</span>)               │ (<span style=\"color: #00d7ff; text-decoration-color: #00d7ff\">None</span>, <span style=\"color: #00af00; text-decoration-color: #00af00\">10</span>)             │           <span style=\"color: #00af00; text-decoration-color: #00af00\">110</span> │\n",
       "└─────────────────────────────────┴────────────────────────┴───────────────┘\n",
       "</pre>\n"
      ],
      "text/plain": [
       "┏━━━━━━━━━━━━━━━━━━━━━━━━━━━━━━━━━┳━━━━━━━━━━━━━━━━━━━━━━━━┳━━━━━━━━━━━━━━━┓\n",
       "┃\u001b[1m \u001b[0m\u001b[1mLayer (type)                   \u001b[0m\u001b[1m \u001b[0m┃\u001b[1m \u001b[0m\u001b[1mOutput Shape          \u001b[0m\u001b[1m \u001b[0m┃\u001b[1m \u001b[0m\u001b[1m      Param #\u001b[0m\u001b[1m \u001b[0m┃\n",
       "┡━━━━━━━━━━━━━━━━━━━━━━━━━━━━━━━━━╇━━━━━━━━━━━━━━━━━━━━━━━━╇━━━━━━━━━━━━━━━┩\n",
       "│ dense_145 (\u001b[38;5;33mDense\u001b[0m)               │ (\u001b[38;5;45mNone\u001b[0m, \u001b[38;5;34m50\u001b[0m, \u001b[38;5;34m6\u001b[0m)          │            \u001b[38;5;34m66\u001b[0m │\n",
       "├─────────────────────────────────┼────────────────────────┼───────────────┤\n",
       "│ sig_dense_21 (\u001b[38;5;33mSigDense\u001b[0m)         │ (\u001b[38;5;45mNone\u001b[0m, \u001b[38;5;34m50\u001b[0m, \u001b[38;5;34m10\u001b[0m)         │            \u001b[38;5;34m50\u001b[0m │\n",
       "├─────────────────────────────────┼────────────────────────┼───────────────┤\n",
       "│ flatten_21 (\u001b[38;5;33mFlatten\u001b[0m)            │ (\u001b[38;5;45mNone\u001b[0m, \u001b[38;5;34m500\u001b[0m)            │             \u001b[38;5;34m0\u001b[0m │\n",
       "├─────────────────────────────────┼────────────────────────┼───────────────┤\n",
       "│ dense_147 (\u001b[38;5;33mDense\u001b[0m)               │ (\u001b[38;5;45mNone\u001b[0m, \u001b[38;5;34m10\u001b[0m)             │         \u001b[38;5;34m5,010\u001b[0m │\n",
       "├─────────────────────────────────┼────────────────────────┼───────────────┤\n",
       "│ dense_148 (\u001b[38;5;33mDense\u001b[0m)               │ (\u001b[38;5;45mNone\u001b[0m, \u001b[38;5;34m10\u001b[0m)             │           \u001b[38;5;34m110\u001b[0m │\n",
       "└─────────────────────────────────┴────────────────────────┴───────────────┘\n"
      ]
     },
     "metadata": {},
     "output_type": "display_data"
    },
    {
     "data": {
      "text/html": [
       "<pre style=\"white-space:pre;overflow-x:auto;line-height:normal;font-family:Menlo,'DejaVu Sans Mono',consolas,'Courier New',monospace\"><span style=\"font-weight: bold\"> Total params: </span><span style=\"color: #00af00; text-decoration-color: #00af00\">5,236</span> (20.45 KB)\n",
       "</pre>\n"
      ],
      "text/plain": [
       "\u001b[1m Total params: \u001b[0m\u001b[38;5;34m5,236\u001b[0m (20.45 KB)\n"
      ]
     },
     "metadata": {},
     "output_type": "display_data"
    },
    {
     "data": {
      "text/html": [
       "<pre style=\"white-space:pre;overflow-x:auto;line-height:normal;font-family:Menlo,'DejaVu Sans Mono',consolas,'Courier New',monospace\"><span style=\"font-weight: bold\"> Trainable params: </span><span style=\"color: #00af00; text-decoration-color: #00af00\">5,236</span> (20.45 KB)\n",
       "</pre>\n"
      ],
      "text/plain": [
       "\u001b[1m Trainable params: \u001b[0m\u001b[38;5;34m5,236\u001b[0m (20.45 KB)\n"
      ]
     },
     "metadata": {},
     "output_type": "display_data"
    },
    {
     "data": {
      "text/html": [
       "<pre style=\"white-space:pre;overflow-x:auto;line-height:normal;font-family:Menlo,'DejaVu Sans Mono',consolas,'Courier New',monospace\"><span style=\"font-weight: bold\"> Non-trainable params: </span><span style=\"color: #00af00; text-decoration-color: #00af00\">0</span> (0.00 B)\n",
       "</pre>\n"
      ],
      "text/plain": [
       "\u001b[1m Non-trainable params: \u001b[0m\u001b[38;5;34m0\u001b[0m (0.00 B)\n"
      ]
     },
     "metadata": {},
     "output_type": "display_data"
    },
    {
     "name": "stdout",
     "output_type": "stream",
     "text": [
      "Epoch 1/10\n",
      "\u001b[1m100/100\u001b[0m \u001b[32m━━━━━━━━━━━━━━━━━━━━\u001b[0m\u001b[37m\u001b[0m \u001b[1m7s\u001b[0m 49ms/step - loss: 0.9985\n",
      "Epoch 2/10\n",
      "\u001b[1m100/100\u001b[0m \u001b[32m━━━━━━━━━━━━━━━━━━━━\u001b[0m\u001b[37m\u001b[0m \u001b[1m5s\u001b[0m 47ms/step - loss: 0.9963\n",
      "Epoch 3/10\n",
      "\u001b[1m100/100\u001b[0m \u001b[32m━━━━━━━━━━━━━━━━━━━━\u001b[0m\u001b[37m\u001b[0m \u001b[1m4s\u001b[0m 43ms/step - loss: 1.0016\n",
      "Epoch 4/10\n",
      "\u001b[1m100/100\u001b[0m \u001b[32m━━━━━━━━━━━━━━━━━━━━\u001b[0m\u001b[37m\u001b[0m \u001b[1m4s\u001b[0m 44ms/step - loss: 0.9967\n",
      "Epoch 5/10\n",
      "\u001b[1m100/100\u001b[0m \u001b[32m━━━━━━━━━━━━━━━━━━━━\u001b[0m\u001b[37m\u001b[0m \u001b[1m4s\u001b[0m 42ms/step - loss: 0.9852\n",
      "Epoch 6/10\n",
      "\u001b[1m100/100\u001b[0m \u001b[32m━━━━━━━━━━━━━━━━━━━━\u001b[0m\u001b[37m\u001b[0m \u001b[1m5s\u001b[0m 46ms/step - loss: 0.9881\n",
      "Epoch 7/10\n",
      "\u001b[1m100/100\u001b[0m \u001b[32m━━━━━━━━━━━━━━━━━━━━\u001b[0m\u001b[37m\u001b[0m \u001b[1m5s\u001b[0m 48ms/step - loss: 0.9778\n",
      "Epoch 8/10\n",
      "\u001b[1m100/100\u001b[0m \u001b[32m━━━━━━━━━━━━━━━━━━━━\u001b[0m\u001b[37m\u001b[0m \u001b[1m5s\u001b[0m 45ms/step - loss: 0.9640\n",
      "Epoch 9/10\n",
      "\u001b[1m100/100\u001b[0m \u001b[32m━━━━━━━━━━━━━━━━━━━━\u001b[0m\u001b[37m\u001b[0m \u001b[1m5s\u001b[0m 46ms/step - loss: 0.9667\n",
      "Epoch 10/10\n",
      "\u001b[1m100/100\u001b[0m \u001b[32m━━━━━━━━━━━━━━━━━━━━\u001b[0m\u001b[37m\u001b[0m \u001b[1m5s\u001b[0m 46ms/step - loss: 0.9610\n",
      "Time with iisignature Wrapper in tensorflow 48.41623115539551\n"
     ]
    }
   ],
   "source": [
    "BATCH_SIZE = 128\n",
    "num_sample = BATCH_SIZE*100 #- 35  #In order to have an not exactly equal to Batch size total number of sample \n",
    "seq_len = 50\n",
    "n_feature = 10\n",
    "n_ahead = 10\n",
    "depth = 3\n",
    "X = np.random.randn(num_sample, seq_len, n_feature)\n",
    "y = np.random.randn(num_sample, n_ahead)\n",
    "\n",
    "t1 = time.time()\n",
    "model = keras.Sequential([\n",
    "    Input(shape=X.shape[1:]),\n",
    "    Dense(7),\n",
    "    SigDense(10, depth, SigLayer),\n",
    "    Flatten(),\n",
    "    Dense(10, 'relu'),\n",
    "    Dense(n_ahead),\n",
    "])\n",
    "model.summary()\n",
    "model.compile('adam', 'mse', jit_compile=True)\n",
    "model.fit(X, y, batch_size=BATCH_SIZE, epochs=10, verbose=True)\n",
    "print(\"Time with Pure Keras Signature\", time.time() - t1)\n",
    "del model\n",
    "\n",
    "t1 = time.time()\n",
    "model = keras.Sequential([\n",
    "    Input(shape=X.shape[1:]),\n",
    "    Dense(6),\n",
    "    SigDense(10, depth, iisigSigLayer),\n",
    "    Flatten(),\n",
    "    Dense(10, 'relu'),\n",
    "    Dense(n_ahead),\n",
    "])\n",
    "model.summary()\n",
    "model.compile('adam', 'mse', jit_compile=False)\n",
    "model.fit(X, y, batch_size=BATCH_SIZE, epochs=10, verbose=True)\n",
    "print(\"Time with iisignature Wrapper in tensorflow\", time.time() - t1)\n",
    "del model"
   ]
  },
  {
   "cell_type": "code",
   "execution_count": 52,
   "id": "ea2e441d-8b4d-4538-bfbc-f74028e0e5d5",
   "metadata": {},
   "outputs": [
    {
     "data": {
      "text/html": [
       "<pre style=\"white-space:pre;overflow-x:auto;line-height:normal;font-family:Menlo,'DejaVu Sans Mono',consolas,'Courier New',monospace\"><span style=\"font-weight: bold\">Model: \"sequential_22\"</span>\n",
       "</pre>\n"
      ],
      "text/plain": [
       "\u001b[1mModel: \"sequential_22\"\u001b[0m\n"
      ]
     },
     "metadata": {},
     "output_type": "display_data"
    },
    {
     "data": {
      "text/html": [
       "<pre style=\"white-space:pre;overflow-x:auto;line-height:normal;font-family:Menlo,'DejaVu Sans Mono',consolas,'Courier New',monospace\">┏━━━━━━━━━━━━━━━━━━━━━━━━━━━━━━━━━┳━━━━━━━━━━━━━━━━━━━━━━━━┳━━━━━━━━━━━━━━━┓\n",
       "┃<span style=\"font-weight: bold\"> Layer (type)                    </span>┃<span style=\"font-weight: bold\"> Output Shape           </span>┃<span style=\"font-weight: bold\">       Param # </span>┃\n",
       "┡━━━━━━━━━━━━━━━━━━━━━━━━━━━━━━━━━╇━━━━━━━━━━━━━━━━━━━━━━━━╇━━━━━━━━━━━━━━━┩\n",
       "│ dense_154 (<span style=\"color: #0087ff; text-decoration-color: #0087ff\">Dense</span>)               │ (<span style=\"color: #00d7ff; text-decoration-color: #00d7ff\">None</span>, <span style=\"color: #00af00; text-decoration-color: #00af00\">20</span>, <span style=\"color: #00af00; text-decoration-color: #00af00\">7</span>)          │            <span style=\"color: #00af00; text-decoration-color: #00af00\">77</span> │\n",
       "├─────────────────────────────────┼────────────────────────┼───────────────┤\n",
       "│ sig_dense_22 (<span style=\"color: #0087ff; text-decoration-color: #0087ff\">SigDense</span>)         │ (<span style=\"color: #00d7ff; text-decoration-color: #00d7ff\">None</span>, <span style=\"color: #00af00; text-decoration-color: #00af00\">20</span>, <span style=\"color: #00af00; text-decoration-color: #00af00\">10</span>)         │            <span style=\"color: #00af00; text-decoration-color: #00af00\">20</span> │\n",
       "├─────────────────────────────────┼────────────────────────┼───────────────┤\n",
       "│ flatten_22 (<span style=\"color: #0087ff; text-decoration-color: #0087ff\">Flatten</span>)            │ (<span style=\"color: #00d7ff; text-decoration-color: #00d7ff\">None</span>, <span style=\"color: #00af00; text-decoration-color: #00af00\">200</span>)            │             <span style=\"color: #00af00; text-decoration-color: #00af00\">0</span> │\n",
       "├─────────────────────────────────┼────────────────────────┼───────────────┤\n",
       "│ dense_156 (<span style=\"color: #0087ff; text-decoration-color: #0087ff\">Dense</span>)               │ (<span style=\"color: #00d7ff; text-decoration-color: #00d7ff\">None</span>, <span style=\"color: #00af00; text-decoration-color: #00af00\">10</span>)             │         <span style=\"color: #00af00; text-decoration-color: #00af00\">2,010</span> │\n",
       "├─────────────────────────────────┼────────────────────────┼───────────────┤\n",
       "│ dense_157 (<span style=\"color: #0087ff; text-decoration-color: #0087ff\">Dense</span>)               │ (<span style=\"color: #00d7ff; text-decoration-color: #00d7ff\">None</span>, <span style=\"color: #00af00; text-decoration-color: #00af00\">10</span>)             │           <span style=\"color: #00af00; text-decoration-color: #00af00\">110</span> │\n",
       "└─────────────────────────────────┴────────────────────────┴───────────────┘\n",
       "</pre>\n"
      ],
      "text/plain": [
       "┏━━━━━━━━━━━━━━━━━━━━━━━━━━━━━━━━━┳━━━━━━━━━━━━━━━━━━━━━━━━┳━━━━━━━━━━━━━━━┓\n",
       "┃\u001b[1m \u001b[0m\u001b[1mLayer (type)                   \u001b[0m\u001b[1m \u001b[0m┃\u001b[1m \u001b[0m\u001b[1mOutput Shape          \u001b[0m\u001b[1m \u001b[0m┃\u001b[1m \u001b[0m\u001b[1m      Param #\u001b[0m\u001b[1m \u001b[0m┃\n",
       "┡━━━━━━━━━━━━━━━━━━━━━━━━━━━━━━━━━╇━━━━━━━━━━━━━━━━━━━━━━━━╇━━━━━━━━━━━━━━━┩\n",
       "│ dense_154 (\u001b[38;5;33mDense\u001b[0m)               │ (\u001b[38;5;45mNone\u001b[0m, \u001b[38;5;34m20\u001b[0m, \u001b[38;5;34m7\u001b[0m)          │            \u001b[38;5;34m77\u001b[0m │\n",
       "├─────────────────────────────────┼────────────────────────┼───────────────┤\n",
       "│ sig_dense_22 (\u001b[38;5;33mSigDense\u001b[0m)         │ (\u001b[38;5;45mNone\u001b[0m, \u001b[38;5;34m20\u001b[0m, \u001b[38;5;34m10\u001b[0m)         │            \u001b[38;5;34m20\u001b[0m │\n",
       "├─────────────────────────────────┼────────────────────────┼───────────────┤\n",
       "│ flatten_22 (\u001b[38;5;33mFlatten\u001b[0m)            │ (\u001b[38;5;45mNone\u001b[0m, \u001b[38;5;34m200\u001b[0m)            │             \u001b[38;5;34m0\u001b[0m │\n",
       "├─────────────────────────────────┼────────────────────────┼───────────────┤\n",
       "│ dense_156 (\u001b[38;5;33mDense\u001b[0m)               │ (\u001b[38;5;45mNone\u001b[0m, \u001b[38;5;34m10\u001b[0m)             │         \u001b[38;5;34m2,010\u001b[0m │\n",
       "├─────────────────────────────────┼────────────────────────┼───────────────┤\n",
       "│ dense_157 (\u001b[38;5;33mDense\u001b[0m)               │ (\u001b[38;5;45mNone\u001b[0m, \u001b[38;5;34m10\u001b[0m)             │           \u001b[38;5;34m110\u001b[0m │\n",
       "└─────────────────────────────────┴────────────────────────┴───────────────┘\n"
      ]
     },
     "metadata": {},
     "output_type": "display_data"
    },
    {
     "data": {
      "text/html": [
       "<pre style=\"white-space:pre;overflow-x:auto;line-height:normal;font-family:Menlo,'DejaVu Sans Mono',consolas,'Courier New',monospace\"><span style=\"font-weight: bold\"> Total params: </span><span style=\"color: #00af00; text-decoration-color: #00af00\">2,217</span> (8.66 KB)\n",
       "</pre>\n"
      ],
      "text/plain": [
       "\u001b[1m Total params: \u001b[0m\u001b[38;5;34m2,217\u001b[0m (8.66 KB)\n"
      ]
     },
     "metadata": {},
     "output_type": "display_data"
    },
    {
     "data": {
      "text/html": [
       "<pre style=\"white-space:pre;overflow-x:auto;line-height:normal;font-family:Menlo,'DejaVu Sans Mono',consolas,'Courier New',monospace\"><span style=\"font-weight: bold\"> Trainable params: </span><span style=\"color: #00af00; text-decoration-color: #00af00\">2,217</span> (8.66 KB)\n",
       "</pre>\n"
      ],
      "text/plain": [
       "\u001b[1m Trainable params: \u001b[0m\u001b[38;5;34m2,217\u001b[0m (8.66 KB)\n"
      ]
     },
     "metadata": {},
     "output_type": "display_data"
    },
    {
     "data": {
      "text/html": [
       "<pre style=\"white-space:pre;overflow-x:auto;line-height:normal;font-family:Menlo,'DejaVu Sans Mono',consolas,'Courier New',monospace\"><span style=\"font-weight: bold\"> Non-trainable params: </span><span style=\"color: #00af00; text-decoration-color: #00af00\">0</span> (0.00 B)\n",
       "</pre>\n"
      ],
      "text/plain": [
       "\u001b[1m Non-trainable params: \u001b[0m\u001b[38;5;34m0\u001b[0m (0.00 B)\n"
      ]
     },
     "metadata": {},
     "output_type": "display_data"
    },
    {
     "name": "stdout",
     "output_type": "stream",
     "text": [
      "Epoch 1/10\n",
      "\u001b[1m100/100\u001b[0m \u001b[32m━━━━━━━━━━━━━━━━━━━━\u001b[0m\u001b[37m\u001b[0m \u001b[1m17s\u001b[0m 26ms/step - loss: 0.9948\n",
      "Epoch 2/10\n",
      "\u001b[1m100/100\u001b[0m \u001b[32m━━━━━━━━━━━━━━━━━━━━\u001b[0m\u001b[37m\u001b[0m \u001b[1m2s\u001b[0m 25ms/step - loss: 0.9827\n",
      "Epoch 3/10\n",
      "\u001b[1m100/100\u001b[0m \u001b[32m━━━━━━━━━━━━━━━━━━━━\u001b[0m\u001b[37m\u001b[0m \u001b[1m3s\u001b[0m 25ms/step - loss: 0.9827\n",
      "Epoch 4/10\n",
      "\u001b[1m100/100\u001b[0m \u001b[32m━━━━━━━━━━━━━━━━━━━━\u001b[0m\u001b[37m\u001b[0m \u001b[1m3s\u001b[0m 25ms/step - loss: 0.9741\n",
      "Epoch 5/10\n",
      "\u001b[1m100/100\u001b[0m \u001b[32m━━━━━━━━━━━━━━━━━━━━\u001b[0m\u001b[37m\u001b[0m \u001b[1m3s\u001b[0m 26ms/step - loss: 0.9685\n",
      "Epoch 6/10\n",
      "\u001b[1m100/100\u001b[0m \u001b[32m━━━━━━━━━━━━━━━━━━━━\u001b[0m\u001b[37m\u001b[0m \u001b[1m2s\u001b[0m 23ms/step - loss: 0.9507\n",
      "Epoch 7/10\n",
      "\u001b[1m100/100\u001b[0m \u001b[32m━━━━━━━━━━━━━━━━━━━━\u001b[0m\u001b[37m\u001b[0m \u001b[1m2s\u001b[0m 24ms/step - loss: 0.9324\n",
      "Epoch 8/10\n",
      "\u001b[1m100/100\u001b[0m \u001b[32m━━━━━━━━━━━━━━━━━━━━\u001b[0m\u001b[37m\u001b[0m \u001b[1m3s\u001b[0m 26ms/step - loss: 0.9206\n",
      "Epoch 9/10\n",
      "\u001b[1m100/100\u001b[0m \u001b[32m━━━━━━━━━━━━━━━━━━━━\u001b[0m\u001b[37m\u001b[0m \u001b[1m3s\u001b[0m 25ms/step - loss: 0.9075\n",
      "Epoch 10/10\n",
      "\u001b[1m100/100\u001b[0m \u001b[32m━━━━━━━━━━━━━━━━━━━━\u001b[0m\u001b[37m\u001b[0m \u001b[1m3s\u001b[0m 26ms/step - loss: 0.8965\n",
      "Time with Pure Keras Signature 39.83377504348755\n"
     ]
    },
    {
     "data": {
      "text/html": [
       "<pre style=\"white-space:pre;overflow-x:auto;line-height:normal;font-family:Menlo,'DejaVu Sans Mono',consolas,'Courier New',monospace\"><span style=\"font-weight: bold\">Model: \"sequential_23\"</span>\n",
       "</pre>\n"
      ],
      "text/plain": [
       "\u001b[1mModel: \"sequential_23\"\u001b[0m\n"
      ]
     },
     "metadata": {},
     "output_type": "display_data"
    },
    {
     "data": {
      "text/html": [
       "<pre style=\"white-space:pre;overflow-x:auto;line-height:normal;font-family:Menlo,'DejaVu Sans Mono',consolas,'Courier New',monospace\">┏━━━━━━━━━━━━━━━━━━━━━━━━━━━━━━━━━┳━━━━━━━━━━━━━━━━━━━━━━━━┳━━━━━━━━━━━━━━━┓\n",
       "┃<span style=\"font-weight: bold\"> Layer (type)                    </span>┃<span style=\"font-weight: bold\"> Output Shape           </span>┃<span style=\"font-weight: bold\">       Param # </span>┃\n",
       "┡━━━━━━━━━━━━━━━━━━━━━━━━━━━━━━━━━╇━━━━━━━━━━━━━━━━━━━━━━━━╇━━━━━━━━━━━━━━━┩\n",
       "│ dense_163 (<span style=\"color: #0087ff; text-decoration-color: #0087ff\">Dense</span>)               │ (<span style=\"color: #00d7ff; text-decoration-color: #00d7ff\">None</span>, <span style=\"color: #00af00; text-decoration-color: #00af00\">20</span>, <span style=\"color: #00af00; text-decoration-color: #00af00\">6</span>)          │            <span style=\"color: #00af00; text-decoration-color: #00af00\">66</span> │\n",
       "├─────────────────────────────────┼────────────────────────┼───────────────┤\n",
       "│ sig_dense_23 (<span style=\"color: #0087ff; text-decoration-color: #0087ff\">SigDense</span>)         │ (<span style=\"color: #00d7ff; text-decoration-color: #00d7ff\">None</span>, <span style=\"color: #00af00; text-decoration-color: #00af00\">20</span>, <span style=\"color: #00af00; text-decoration-color: #00af00\">10</span>)         │            <span style=\"color: #00af00; text-decoration-color: #00af00\">20</span> │\n",
       "├─────────────────────────────────┼────────────────────────┼───────────────┤\n",
       "│ flatten_23 (<span style=\"color: #0087ff; text-decoration-color: #0087ff\">Flatten</span>)            │ (<span style=\"color: #00d7ff; text-decoration-color: #00d7ff\">None</span>, <span style=\"color: #00af00; text-decoration-color: #00af00\">200</span>)            │             <span style=\"color: #00af00; text-decoration-color: #00af00\">0</span> │\n",
       "├─────────────────────────────────┼────────────────────────┼───────────────┤\n",
       "│ dense_165 (<span style=\"color: #0087ff; text-decoration-color: #0087ff\">Dense</span>)               │ (<span style=\"color: #00d7ff; text-decoration-color: #00d7ff\">None</span>, <span style=\"color: #00af00; text-decoration-color: #00af00\">10</span>)             │         <span style=\"color: #00af00; text-decoration-color: #00af00\">2,010</span> │\n",
       "├─────────────────────────────────┼────────────────────────┼───────────────┤\n",
       "│ dense_166 (<span style=\"color: #0087ff; text-decoration-color: #0087ff\">Dense</span>)               │ (<span style=\"color: #00d7ff; text-decoration-color: #00d7ff\">None</span>, <span style=\"color: #00af00; text-decoration-color: #00af00\">10</span>)             │           <span style=\"color: #00af00; text-decoration-color: #00af00\">110</span> │\n",
       "└─────────────────────────────────┴────────────────────────┴───────────────┘\n",
       "</pre>\n"
      ],
      "text/plain": [
       "┏━━━━━━━━━━━━━━━━━━━━━━━━━━━━━━━━━┳━━━━━━━━━━━━━━━━━━━━━━━━┳━━━━━━━━━━━━━━━┓\n",
       "┃\u001b[1m \u001b[0m\u001b[1mLayer (type)                   \u001b[0m\u001b[1m \u001b[0m┃\u001b[1m \u001b[0m\u001b[1mOutput Shape          \u001b[0m\u001b[1m \u001b[0m┃\u001b[1m \u001b[0m\u001b[1m      Param #\u001b[0m\u001b[1m \u001b[0m┃\n",
       "┡━━━━━━━━━━━━━━━━━━━━━━━━━━━━━━━━━╇━━━━━━━━━━━━━━━━━━━━━━━━╇━━━━━━━━━━━━━━━┩\n",
       "│ dense_163 (\u001b[38;5;33mDense\u001b[0m)               │ (\u001b[38;5;45mNone\u001b[0m, \u001b[38;5;34m20\u001b[0m, \u001b[38;5;34m6\u001b[0m)          │            \u001b[38;5;34m66\u001b[0m │\n",
       "├─────────────────────────────────┼────────────────────────┼───────────────┤\n",
       "│ sig_dense_23 (\u001b[38;5;33mSigDense\u001b[0m)         │ (\u001b[38;5;45mNone\u001b[0m, \u001b[38;5;34m20\u001b[0m, \u001b[38;5;34m10\u001b[0m)         │            \u001b[38;5;34m20\u001b[0m │\n",
       "├─────────────────────────────────┼────────────────────────┼───────────────┤\n",
       "│ flatten_23 (\u001b[38;5;33mFlatten\u001b[0m)            │ (\u001b[38;5;45mNone\u001b[0m, \u001b[38;5;34m200\u001b[0m)            │             \u001b[38;5;34m0\u001b[0m │\n",
       "├─────────────────────────────────┼────────────────────────┼───────────────┤\n",
       "│ dense_165 (\u001b[38;5;33mDense\u001b[0m)               │ (\u001b[38;5;45mNone\u001b[0m, \u001b[38;5;34m10\u001b[0m)             │         \u001b[38;5;34m2,010\u001b[0m │\n",
       "├─────────────────────────────────┼────────────────────────┼───────────────┤\n",
       "│ dense_166 (\u001b[38;5;33mDense\u001b[0m)               │ (\u001b[38;5;45mNone\u001b[0m, \u001b[38;5;34m10\u001b[0m)             │           \u001b[38;5;34m110\u001b[0m │\n",
       "└─────────────────────────────────┴────────────────────────┴───────────────┘\n"
      ]
     },
     "metadata": {},
     "output_type": "display_data"
    },
    {
     "data": {
      "text/html": [
       "<pre style=\"white-space:pre;overflow-x:auto;line-height:normal;font-family:Menlo,'DejaVu Sans Mono',consolas,'Courier New',monospace\"><span style=\"font-weight: bold\"> Total params: </span><span style=\"color: #00af00; text-decoration-color: #00af00\">2,206</span> (8.62 KB)\n",
       "</pre>\n"
      ],
      "text/plain": [
       "\u001b[1m Total params: \u001b[0m\u001b[38;5;34m2,206\u001b[0m (8.62 KB)\n"
      ]
     },
     "metadata": {},
     "output_type": "display_data"
    },
    {
     "data": {
      "text/html": [
       "<pre style=\"white-space:pre;overflow-x:auto;line-height:normal;font-family:Menlo,'DejaVu Sans Mono',consolas,'Courier New',monospace\"><span style=\"font-weight: bold\"> Trainable params: </span><span style=\"color: #00af00; text-decoration-color: #00af00\">2,206</span> (8.62 KB)\n",
       "</pre>\n"
      ],
      "text/plain": [
       "\u001b[1m Trainable params: \u001b[0m\u001b[38;5;34m2,206\u001b[0m (8.62 KB)\n"
      ]
     },
     "metadata": {},
     "output_type": "display_data"
    },
    {
     "data": {
      "text/html": [
       "<pre style=\"white-space:pre;overflow-x:auto;line-height:normal;font-family:Menlo,'DejaVu Sans Mono',consolas,'Courier New',monospace\"><span style=\"font-weight: bold\"> Non-trainable params: </span><span style=\"color: #00af00; text-decoration-color: #00af00\">0</span> (0.00 B)\n",
       "</pre>\n"
      ],
      "text/plain": [
       "\u001b[1m Non-trainable params: \u001b[0m\u001b[38;5;34m0\u001b[0m (0.00 B)\n"
      ]
     },
     "metadata": {},
     "output_type": "display_data"
    },
    {
     "name": "stdout",
     "output_type": "stream",
     "text": [
      "Epoch 1/10\n",
      "\u001b[1m100/100\u001b[0m \u001b[32m━━━━━━━━━━━━━━━━━━━━\u001b[0m\u001b[37m\u001b[0m \u001b[1m12s\u001b[0m 97ms/step - loss: 0.9898\n",
      "Epoch 2/10\n",
      "\u001b[1m100/100\u001b[0m \u001b[32m━━━━━━━━━━━━━━━━━━━━\u001b[0m\u001b[37m\u001b[0m \u001b[1m9s\u001b[0m 93ms/step - loss: 0.9863\n",
      "Epoch 3/10\n",
      "\u001b[1m100/100\u001b[0m \u001b[32m━━━━━━━━━━━━━━━━━━━━\u001b[0m\u001b[37m\u001b[0m \u001b[1m9s\u001b[0m 89ms/step - loss: 0.9922\n",
      "Epoch 4/10\n",
      "\u001b[1m100/100\u001b[0m \u001b[32m━━━━━━━━━━━━━━━━━━━━\u001b[0m\u001b[37m\u001b[0m \u001b[1m10s\u001b[0m 95ms/step - loss: 0.9812\n",
      "Epoch 5/10\n",
      "\u001b[1m100/100\u001b[0m \u001b[32m━━━━━━━━━━━━━━━━━━━━\u001b[0m\u001b[37m\u001b[0m \u001b[1m9s\u001b[0m 94ms/step - loss: 0.9751\n",
      "Epoch 6/10\n",
      "\u001b[1m100/100\u001b[0m \u001b[32m━━━━━━━━━━━━━━━━━━━━\u001b[0m\u001b[37m\u001b[0m \u001b[1m9s\u001b[0m 91ms/step - loss: 0.9588\n",
      "Epoch 7/10\n",
      "\u001b[1m100/100\u001b[0m \u001b[32m━━━━━━━━━━━━━━━━━━━━\u001b[0m\u001b[37m\u001b[0m \u001b[1m9s\u001b[0m 91ms/step - loss: 0.9402\n",
      "Epoch 8/10\n",
      "\u001b[1m100/100\u001b[0m \u001b[32m━━━━━━━━━━━━━━━━━━━━\u001b[0m\u001b[37m\u001b[0m \u001b[1m9s\u001b[0m 95ms/step - loss: 0.9382\n",
      "Epoch 9/10\n",
      "\u001b[1m100/100\u001b[0m \u001b[32m━━━━━━━━━━━━━━━━━━━━\u001b[0m\u001b[37m\u001b[0m \u001b[1m9s\u001b[0m 91ms/step - loss: 0.9304\n",
      "Epoch 10/10\n",
      "\u001b[1m100/100\u001b[0m \u001b[32m━━━━━━━━━━━━━━━━━━━━\u001b[0m\u001b[37m\u001b[0m \u001b[1m9s\u001b[0m 92ms/step - loss: 0.9197\n",
      "Time with iisignature Wrapper in tensorflow 95.6760663986206\n"
     ]
    }
   ],
   "source": [
    "BATCH_SIZE = 128\n",
    "num_sample = BATCH_SIZE*100 #- 35  #In order to have an not exactly equal to Batch size total number of sample \n",
    "seq_len = 20\n",
    "n_feature = 10\n",
    "n_ahead = 10\n",
    "depth = 4\n",
    "X = np.random.randn(num_sample, seq_len, n_feature)\n",
    "y = np.random.randn(num_sample, n_ahead)\n",
    "\n",
    "t1 = time.time()\n",
    "model = keras.Sequential([\n",
    "    Input(shape=X.shape[1:]),\n",
    "    Dense(7),\n",
    "    SigDense(10, depth, SigLayer),\n",
    "    Flatten(),\n",
    "    Dense(10, 'relu'),\n",
    "    Dense(n_ahead),\n",
    "])\n",
    "model.summary()\n",
    "model.compile('adam', 'mse', jit_compile=True)\n",
    "model.fit(X, y, batch_size=BATCH_SIZE, epochs=10, verbose=True)\n",
    "print(\"Time with Pure Keras Signature\", time.time() - t1)\n",
    "del model\n",
    "\n",
    "t1 = time.time()\n",
    "model = keras.Sequential([\n",
    "    Input(shape=X.shape[1:]),\n",
    "    Dense(6),\n",
    "    SigDense(10, depth, iisigSigLayer),\n",
    "    Flatten(),\n",
    "    Dense(10, 'relu'),\n",
    "    Dense(n_ahead),\n",
    "])\n",
    "model.summary()\n",
    "model.compile('adam', 'mse', jit_compile=False)\n",
    "model.fit(X, y, batch_size=BATCH_SIZE, epochs=10, verbose=True)\n",
    "print(\"Time with iisignature Wrapper in tensorflow\", time.time() - t1)\n",
    "del model"
   ]
  },
  {
   "cell_type": "markdown",
   "id": "6ad6bdde-6c58-4062-9356-5f11264183ea",
   "metadata": {},
   "source": [
    "## Conclusion:\n",
    "\n",
    "Model is compilable in tensorflow with our proposed layer which is not the case when using the iisignature wrapper, thus enhancing the performance of training. \n",
    "\n",
    "Still, the performance are still not reaching jax ones, and something to point out is the fact we can't use scan to limit unrolling of loops, creating huge up-front compile time, thus reducing the maximum sequence length we could use.\n",
    "\n",
    "It's ideal for short sequences with high signature degree but not for long sequence."
   ]
  },
  {
   "cell_type": "markdown",
   "id": "00ada45f-21e1-43ee-8a2d-06631d553ade",
   "metadata": {},
   "source": [
    "# Runned with Torch Backend"
   ]
  },
  {
   "cell_type": "code",
   "execution_count": 7,
   "id": "0ae0af27-5811-48d8-8cea-feb4eb001aa2",
   "metadata": {
    "scrolled": true
   },
   "outputs": [
    {
     "data": {
      "text/html": [
       "<pre style=\"white-space:pre;overflow-x:auto;line-height:normal;font-family:Menlo,'DejaVu Sans Mono',consolas,'Courier New',monospace\"><span style=\"font-weight: bold\">Model: \"sequential_1\"</span>\n",
       "</pre>\n"
      ],
      "text/plain": [
       "\u001b[1mModel: \"sequential_1\"\u001b[0m\n"
      ]
     },
     "metadata": {},
     "output_type": "display_data"
    },
    {
     "data": {
      "text/html": [
       "<pre style=\"white-space:pre;overflow-x:auto;line-height:normal;font-family:Menlo,'DejaVu Sans Mono',consolas,'Courier New',monospace\">┏━━━━━━━━━━━━━━━━━━━━━━━━━━━━━━━━━┳━━━━━━━━━━━━━━━━━━━━━━━━┳━━━━━━━━━━━━━━━┓\n",
       "┃<span style=\"font-weight: bold\"> Layer (type)                    </span>┃<span style=\"font-weight: bold\"> Output Shape           </span>┃<span style=\"font-weight: bold\">       Param # </span>┃\n",
       "┡━━━━━━━━━━━━━━━━━━━━━━━━━━━━━━━━━╇━━━━━━━━━━━━━━━━━━━━━━━━╇━━━━━━━━━━━━━━━┩\n",
       "│ dense_3 (<span style=\"color: #0087ff; text-decoration-color: #0087ff\">Dense</span>)                 │ (<span style=\"color: #00d7ff; text-decoration-color: #00d7ff\">None</span>, <span style=\"color: #00af00; text-decoration-color: #00af00\">500</span>, <span style=\"color: #00af00; text-decoration-color: #00af00\">7</span>)         │            <span style=\"color: #00af00; text-decoration-color: #00af00\">77</span> │\n",
       "├─────────────────────────────────┼────────────────────────┼───────────────┤\n",
       "│ sig_dense (<span style=\"color: #0087ff; text-decoration-color: #0087ff\">SigDense</span>)            │ (<span style=\"color: #00d7ff; text-decoration-color: #00d7ff\">None</span>, <span style=\"color: #00af00; text-decoration-color: #00af00\">500</span>, <span style=\"color: #00af00; text-decoration-color: #00af00\">10</span>)        │           <span style=\"color: #00af00; text-decoration-color: #00af00\">500</span> │\n",
       "├─────────────────────────────────┼────────────────────────┼───────────────┤\n",
       "│ flatten (<span style=\"color: #0087ff; text-decoration-color: #0087ff\">Flatten</span>)               │ (<span style=\"color: #00d7ff; text-decoration-color: #00d7ff\">None</span>, <span style=\"color: #00af00; text-decoration-color: #00af00\">5000</span>)           │             <span style=\"color: #00af00; text-decoration-color: #00af00\">0</span> │\n",
       "├─────────────────────────────────┼────────────────────────┼───────────────┤\n",
       "│ dense_5 (<span style=\"color: #0087ff; text-decoration-color: #0087ff\">Dense</span>)                 │ (<span style=\"color: #00d7ff; text-decoration-color: #00d7ff\">None</span>, <span style=\"color: #00af00; text-decoration-color: #00af00\">10</span>)             │        <span style=\"color: #00af00; text-decoration-color: #00af00\">50,010</span> │\n",
       "├─────────────────────────────────┼────────────────────────┼───────────────┤\n",
       "│ dense_6 (<span style=\"color: #0087ff; text-decoration-color: #0087ff\">Dense</span>)                 │ (<span style=\"color: #00d7ff; text-decoration-color: #00d7ff\">None</span>, <span style=\"color: #00af00; text-decoration-color: #00af00\">10</span>)             │           <span style=\"color: #00af00; text-decoration-color: #00af00\">110</span> │\n",
       "└─────────────────────────────────┴────────────────────────┴───────────────┘\n",
       "</pre>\n"
      ],
      "text/plain": [
       "┏━━━━━━━━━━━━━━━━━━━━━━━━━━━━━━━━━┳━━━━━━━━━━━━━━━━━━━━━━━━┳━━━━━━━━━━━━━━━┓\n",
       "┃\u001b[1m \u001b[0m\u001b[1mLayer (type)                   \u001b[0m\u001b[1m \u001b[0m┃\u001b[1m \u001b[0m\u001b[1mOutput Shape          \u001b[0m\u001b[1m \u001b[0m┃\u001b[1m \u001b[0m\u001b[1m      Param #\u001b[0m\u001b[1m \u001b[0m┃\n",
       "┡━━━━━━━━━━━━━━━━━━━━━━━━━━━━━━━━━╇━━━━━━━━━━━━━━━━━━━━━━━━╇━━━━━━━━━━━━━━━┩\n",
       "│ dense_3 (\u001b[38;5;33mDense\u001b[0m)                 │ (\u001b[38;5;45mNone\u001b[0m, \u001b[38;5;34m500\u001b[0m, \u001b[38;5;34m7\u001b[0m)         │            \u001b[38;5;34m77\u001b[0m │\n",
       "├─────────────────────────────────┼────────────────────────┼───────────────┤\n",
       "│ sig_dense (\u001b[38;5;33mSigDense\u001b[0m)            │ (\u001b[38;5;45mNone\u001b[0m, \u001b[38;5;34m500\u001b[0m, \u001b[38;5;34m10\u001b[0m)        │           \u001b[38;5;34m500\u001b[0m │\n",
       "├─────────────────────────────────┼────────────────────────┼───────────────┤\n",
       "│ flatten (\u001b[38;5;33mFlatten\u001b[0m)               │ (\u001b[38;5;45mNone\u001b[0m, \u001b[38;5;34m5000\u001b[0m)           │             \u001b[38;5;34m0\u001b[0m │\n",
       "├─────────────────────────────────┼────────────────────────┼───────────────┤\n",
       "│ dense_5 (\u001b[38;5;33mDense\u001b[0m)                 │ (\u001b[38;5;45mNone\u001b[0m, \u001b[38;5;34m10\u001b[0m)             │        \u001b[38;5;34m50,010\u001b[0m │\n",
       "├─────────────────────────────────┼────────────────────────┼───────────────┤\n",
       "│ dense_6 (\u001b[38;5;33mDense\u001b[0m)                 │ (\u001b[38;5;45mNone\u001b[0m, \u001b[38;5;34m10\u001b[0m)             │           \u001b[38;5;34m110\u001b[0m │\n",
       "└─────────────────────────────────┴────────────────────────┴───────────────┘\n"
      ]
     },
     "metadata": {},
     "output_type": "display_data"
    },
    {
     "data": {
      "text/html": [
       "<pre style=\"white-space:pre;overflow-x:auto;line-height:normal;font-family:Menlo,'DejaVu Sans Mono',consolas,'Courier New',monospace\"><span style=\"font-weight: bold\"> Total params: </span><span style=\"color: #00af00; text-decoration-color: #00af00\">50,697</span> (198.04 KB)\n",
       "</pre>\n"
      ],
      "text/plain": [
       "\u001b[1m Total params: \u001b[0m\u001b[38;5;34m50,697\u001b[0m (198.04 KB)\n"
      ]
     },
     "metadata": {},
     "output_type": "display_data"
    },
    {
     "data": {
      "text/html": [
       "<pre style=\"white-space:pre;overflow-x:auto;line-height:normal;font-family:Menlo,'DejaVu Sans Mono',consolas,'Courier New',monospace\"><span style=\"font-weight: bold\"> Trainable params: </span><span style=\"color: #00af00; text-decoration-color: #00af00\">50,697</span> (198.04 KB)\n",
       "</pre>\n"
      ],
      "text/plain": [
       "\u001b[1m Trainable params: \u001b[0m\u001b[38;5;34m50,697\u001b[0m (198.04 KB)\n"
      ]
     },
     "metadata": {},
     "output_type": "display_data"
    },
    {
     "data": {
      "text/html": [
       "<pre style=\"white-space:pre;overflow-x:auto;line-height:normal;font-family:Menlo,'DejaVu Sans Mono',consolas,'Courier New',monospace\"><span style=\"font-weight: bold\"> Non-trainable params: </span><span style=\"color: #00af00; text-decoration-color: #00af00\">0</span> (0.00 B)\n",
       "</pre>\n"
      ],
      "text/plain": [
       "\u001b[1m Non-trainable params: \u001b[0m\u001b[38;5;34m0\u001b[0m (0.00 B)\n"
      ]
     },
     "metadata": {},
     "output_type": "display_data"
    },
    {
     "name": "stdout",
     "output_type": "stream",
     "text": [
      "Epoch 1/2\n",
      "\u001b[1m100/100\u001b[0m \u001b[32m━━━━━━━━━━━━━━━━━━━━\u001b[0m\u001b[37m\u001b[0m \u001b[1m93s\u001b[0m 927ms/step - loss: 1.0036\n",
      "Epoch 2/2\n",
      "\u001b[1m100/100\u001b[0m \u001b[32m━━━━━━━━━━━━━━━━━━━━\u001b[0m\u001b[37m\u001b[0m \u001b[1m92s\u001b[0m 922ms/step - loss: 0.9967\n",
      "Time with Pure Keras Signature non compiled using SigDense 187.0139937400818\n"
     ]
    }
   ],
   "source": [
    "BATCH_SIZE = 128\n",
    "num_sample = BATCH_SIZE*100 - 35  #In order to have an not exactly equal to Batch size total number of sample \n",
    "seq_len = 500\n",
    "n_feature = 10\n",
    "n_ahead = 10\n",
    "depth = 3\n",
    "X = np.random.randn(num_sample, seq_len, n_feature)\n",
    "y = np.random.randn(num_sample, n_ahead)\n",
    "\n",
    "t1 = time.time()\n",
    "model = keras.Sequential([\n",
    "    Input(shape=X.shape[1:]),\n",
    "    Dense(7),\n",
    "    SigDense(10, depth, SigLayer),\n",
    "    Flatten(),\n",
    "    Dense(10, 'relu'),\n",
    "    Dense(n_ahead),\n",
    "])\n",
    "model.summary()\n",
    "model.compile('adam', 'mse', jit_compile=False)\n",
    "model.fit(X, y, batch_size=BATCH_SIZE, epochs=2, verbose=True)\n",
    "print(\"Time with Pure Keras Signature non compiled using SigDense\", time.time() - t1)\n",
    "del model\n"
   ]
  },
  {
   "cell_type": "markdown",
   "id": "68fda67f-b50a-420f-9511-25d1808c3e78",
   "metadata": {},
   "source": [
    "## Conclusion:\n",
    "\n",
    "Working but far from suboptimal - model compilation break due to the gate layer, but we also tried in another simpler architecture it break too.\n",
    "This seems to come from torch dynamo compiler.\n",
    "Even if working, we would not recommend using it."
   ]
  }
 ],
 "metadata": {
  "kernelspec": {
   "display_name": "Python 3 (ipykernel)",
   "language": "python",
   "name": "python3"
  },
  "language_info": {
   "codemirror_mode": {
    "name": "ipython",
    "version": 3
   },
   "file_extension": ".py",
   "mimetype": "text/x-python",
   "name": "python",
   "nbconvert_exporter": "python",
   "pygments_lexer": "ipython3",
   "version": "3.11.0rc1"
  }
 },
 "nbformat": 4,
 "nbformat_minor": 5
}
